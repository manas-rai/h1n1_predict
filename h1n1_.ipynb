{
 "cells": [
  {
   "cell_type": "code",
   "execution_count": 1,
   "metadata": {},
   "outputs": [],
   "source": [
    "import pandas as pd\n",
    "import numpy as np\n",
    "import matplotlib.pyplot as plt\n",
    "import seaborn as sns\n",
    " \n",
    "from sklearn import linear_model , metrics\n",
    "%matplotlib inline\n",
    "\n",
    "import warnings\n",
    "warnings.filterwarnings('ignore')"
   ]
  },
  {
   "cell_type": "code",
   "execution_count": 2,
   "metadata": {},
   "outputs": [],
   "source": [
    "df=pd.read_csv(r'D:\\Vaccine Usage Prediction\\Dataset\\h1n1_vaccine_prediction.csv')"
   ]
  },
  {
   "cell_type": "code",
   "execution_count": 3,
   "metadata": {},
   "outputs": [
    {
     "data": {
      "text/html": [
       "<div>\n",
       "<style scoped>\n",
       "    .dataframe tbody tr th:only-of-type {\n",
       "        vertical-align: middle;\n",
       "    }\n",
       "\n",
       "    .dataframe tbody tr th {\n",
       "        vertical-align: top;\n",
       "    }\n",
       "\n",
       "    .dataframe thead th {\n",
       "        text-align: right;\n",
       "    }\n",
       "</style>\n",
       "<table border=\"1\" class=\"dataframe\">\n",
       "  <thead>\n",
       "    <tr style=\"text-align: right;\">\n",
       "      <th></th>\n",
       "      <th>unique_id</th>\n",
       "      <th>h1n1_worry</th>\n",
       "      <th>h1n1_awareness</th>\n",
       "      <th>antiviral_medication</th>\n",
       "      <th>contact_avoidance</th>\n",
       "      <th>bought_face_mask</th>\n",
       "      <th>wash_hands_frequently</th>\n",
       "      <th>avoid_large_gatherings</th>\n",
       "      <th>reduced_outside_home_cont</th>\n",
       "      <th>avoid_touch_face</th>\n",
       "      <th>...</th>\n",
       "      <th>race</th>\n",
       "      <th>sex</th>\n",
       "      <th>income_level</th>\n",
       "      <th>marital_status</th>\n",
       "      <th>housing_status</th>\n",
       "      <th>employment</th>\n",
       "      <th>census_msa</th>\n",
       "      <th>no_of_adults</th>\n",
       "      <th>no_of_children</th>\n",
       "      <th>h1n1_vaccine</th>\n",
       "    </tr>\n",
       "  </thead>\n",
       "  <tbody>\n",
       "    <tr>\n",
       "      <th>0</th>\n",
       "      <td>0</td>\n",
       "      <td>1.0</td>\n",
       "      <td>0.0</td>\n",
       "      <td>0.0</td>\n",
       "      <td>0.0</td>\n",
       "      <td>0.0</td>\n",
       "      <td>0.0</td>\n",
       "      <td>0.0</td>\n",
       "      <td>1.0</td>\n",
       "      <td>1.0</td>\n",
       "      <td>...</td>\n",
       "      <td>White</td>\n",
       "      <td>Female</td>\n",
       "      <td>Below Poverty</td>\n",
       "      <td>Not Married</td>\n",
       "      <td>Own</td>\n",
       "      <td>Not in Labor Force</td>\n",
       "      <td>Non-MSA</td>\n",
       "      <td>0.0</td>\n",
       "      <td>0.0</td>\n",
       "      <td>0</td>\n",
       "    </tr>\n",
       "    <tr>\n",
       "      <th>1</th>\n",
       "      <td>1</td>\n",
       "      <td>3.0</td>\n",
       "      <td>2.0</td>\n",
       "      <td>0.0</td>\n",
       "      <td>1.0</td>\n",
       "      <td>0.0</td>\n",
       "      <td>1.0</td>\n",
       "      <td>0.0</td>\n",
       "      <td>1.0</td>\n",
       "      <td>1.0</td>\n",
       "      <td>...</td>\n",
       "      <td>White</td>\n",
       "      <td>Male</td>\n",
       "      <td>Below Poverty</td>\n",
       "      <td>Not Married</td>\n",
       "      <td>Rent</td>\n",
       "      <td>Employed</td>\n",
       "      <td>MSA, Not Principle  City</td>\n",
       "      <td>0.0</td>\n",
       "      <td>0.0</td>\n",
       "      <td>0</td>\n",
       "    </tr>\n",
       "    <tr>\n",
       "      <th>2</th>\n",
       "      <td>2</td>\n",
       "      <td>1.0</td>\n",
       "      <td>1.0</td>\n",
       "      <td>0.0</td>\n",
       "      <td>1.0</td>\n",
       "      <td>0.0</td>\n",
       "      <td>0.0</td>\n",
       "      <td>0.0</td>\n",
       "      <td>0.0</td>\n",
       "      <td>0.0</td>\n",
       "      <td>...</td>\n",
       "      <td>White</td>\n",
       "      <td>Male</td>\n",
       "      <td>&lt;= $75,000, Above Poverty</td>\n",
       "      <td>Not Married</td>\n",
       "      <td>Own</td>\n",
       "      <td>Employed</td>\n",
       "      <td>MSA, Not Principle  City</td>\n",
       "      <td>2.0</td>\n",
       "      <td>0.0</td>\n",
       "      <td>0</td>\n",
       "    </tr>\n",
       "    <tr>\n",
       "      <th>3</th>\n",
       "      <td>3</td>\n",
       "      <td>1.0</td>\n",
       "      <td>1.0</td>\n",
       "      <td>0.0</td>\n",
       "      <td>1.0</td>\n",
       "      <td>0.0</td>\n",
       "      <td>1.0</td>\n",
       "      <td>1.0</td>\n",
       "      <td>0.0</td>\n",
       "      <td>0.0</td>\n",
       "      <td>...</td>\n",
       "      <td>White</td>\n",
       "      <td>Female</td>\n",
       "      <td>Below Poverty</td>\n",
       "      <td>Not Married</td>\n",
       "      <td>Rent</td>\n",
       "      <td>Not in Labor Force</td>\n",
       "      <td>MSA, Principle City</td>\n",
       "      <td>0.0</td>\n",
       "      <td>0.0</td>\n",
       "      <td>0</td>\n",
       "    </tr>\n",
       "    <tr>\n",
       "      <th>4</th>\n",
       "      <td>4</td>\n",
       "      <td>2.0</td>\n",
       "      <td>1.0</td>\n",
       "      <td>0.0</td>\n",
       "      <td>1.0</td>\n",
       "      <td>0.0</td>\n",
       "      <td>1.0</td>\n",
       "      <td>1.0</td>\n",
       "      <td>0.0</td>\n",
       "      <td>1.0</td>\n",
       "      <td>...</td>\n",
       "      <td>White</td>\n",
       "      <td>Female</td>\n",
       "      <td>&lt;= $75,000, Above Poverty</td>\n",
       "      <td>Married</td>\n",
       "      <td>Own</td>\n",
       "      <td>Employed</td>\n",
       "      <td>MSA, Not Principle  City</td>\n",
       "      <td>1.0</td>\n",
       "      <td>0.0</td>\n",
       "      <td>0</td>\n",
       "    </tr>\n",
       "    <tr>\n",
       "      <th>...</th>\n",
       "      <td>...</td>\n",
       "      <td>...</td>\n",
       "      <td>...</td>\n",
       "      <td>...</td>\n",
       "      <td>...</td>\n",
       "      <td>...</td>\n",
       "      <td>...</td>\n",
       "      <td>...</td>\n",
       "      <td>...</td>\n",
       "      <td>...</td>\n",
       "      <td>...</td>\n",
       "      <td>...</td>\n",
       "      <td>...</td>\n",
       "      <td>...</td>\n",
       "      <td>...</td>\n",
       "      <td>...</td>\n",
       "      <td>...</td>\n",
       "      <td>...</td>\n",
       "      <td>...</td>\n",
       "      <td>...</td>\n",
       "      <td>...</td>\n",
       "    </tr>\n",
       "    <tr>\n",
       "      <th>26702</th>\n",
       "      <td>26702</td>\n",
       "      <td>2.0</td>\n",
       "      <td>0.0</td>\n",
       "      <td>0.0</td>\n",
       "      <td>1.0</td>\n",
       "      <td>0.0</td>\n",
       "      <td>0.0</td>\n",
       "      <td>0.0</td>\n",
       "      <td>1.0</td>\n",
       "      <td>0.0</td>\n",
       "      <td>...</td>\n",
       "      <td>White</td>\n",
       "      <td>Female</td>\n",
       "      <td>&lt;= $75,000, Above Poverty</td>\n",
       "      <td>Not Married</td>\n",
       "      <td>Own</td>\n",
       "      <td>Not in Labor Force</td>\n",
       "      <td>Non-MSA</td>\n",
       "      <td>0.0</td>\n",
       "      <td>0.0</td>\n",
       "      <td>0</td>\n",
       "    </tr>\n",
       "    <tr>\n",
       "      <th>26703</th>\n",
       "      <td>26703</td>\n",
       "      <td>1.0</td>\n",
       "      <td>2.0</td>\n",
       "      <td>0.0</td>\n",
       "      <td>1.0</td>\n",
       "      <td>0.0</td>\n",
       "      <td>1.0</td>\n",
       "      <td>0.0</td>\n",
       "      <td>0.0</td>\n",
       "      <td>0.0</td>\n",
       "      <td>...</td>\n",
       "      <td>White</td>\n",
       "      <td>Male</td>\n",
       "      <td>&lt;= $75,000, Above Poverty</td>\n",
       "      <td>Not Married</td>\n",
       "      <td>Rent</td>\n",
       "      <td>Employed</td>\n",
       "      <td>MSA, Principle City</td>\n",
       "      <td>1.0</td>\n",
       "      <td>0.0</td>\n",
       "      <td>0</td>\n",
       "    </tr>\n",
       "    <tr>\n",
       "      <th>26704</th>\n",
       "      <td>26704</td>\n",
       "      <td>2.0</td>\n",
       "      <td>2.0</td>\n",
       "      <td>0.0</td>\n",
       "      <td>1.0</td>\n",
       "      <td>1.0</td>\n",
       "      <td>1.0</td>\n",
       "      <td>1.0</td>\n",
       "      <td>0.0</td>\n",
       "      <td>1.0</td>\n",
       "      <td>...</td>\n",
       "      <td>White</td>\n",
       "      <td>Female</td>\n",
       "      <td>NaN</td>\n",
       "      <td>Not Married</td>\n",
       "      <td>Own</td>\n",
       "      <td>NaN</td>\n",
       "      <td>MSA, Not Principle  City</td>\n",
       "      <td>0.0</td>\n",
       "      <td>0.0</td>\n",
       "      <td>0</td>\n",
       "    </tr>\n",
       "    <tr>\n",
       "      <th>26705</th>\n",
       "      <td>26705</td>\n",
       "      <td>1.0</td>\n",
       "      <td>1.0</td>\n",
       "      <td>0.0</td>\n",
       "      <td>0.0</td>\n",
       "      <td>0.0</td>\n",
       "      <td>0.0</td>\n",
       "      <td>0.0</td>\n",
       "      <td>0.0</td>\n",
       "      <td>NaN</td>\n",
       "      <td>...</td>\n",
       "      <td>Hispanic</td>\n",
       "      <td>Female</td>\n",
       "      <td>&lt;= $75,000, Above Poverty</td>\n",
       "      <td>Married</td>\n",
       "      <td>Rent</td>\n",
       "      <td>Employed</td>\n",
       "      <td>Non-MSA</td>\n",
       "      <td>1.0</td>\n",
       "      <td>0.0</td>\n",
       "      <td>0</td>\n",
       "    </tr>\n",
       "    <tr>\n",
       "      <th>26706</th>\n",
       "      <td>26706</td>\n",
       "      <td>0.0</td>\n",
       "      <td>0.0</td>\n",
       "      <td>0.0</td>\n",
       "      <td>1.0</td>\n",
       "      <td>0.0</td>\n",
       "      <td>0.0</td>\n",
       "      <td>0.0</td>\n",
       "      <td>0.0</td>\n",
       "      <td>0.0</td>\n",
       "      <td>...</td>\n",
       "      <td>White</td>\n",
       "      <td>Male</td>\n",
       "      <td>&lt;= $75,000, Above Poverty</td>\n",
       "      <td>Married</td>\n",
       "      <td>Own</td>\n",
       "      <td>Not in Labor Force</td>\n",
       "      <td>MSA, Principle City</td>\n",
       "      <td>1.0</td>\n",
       "      <td>0.0</td>\n",
       "      <td>0</td>\n",
       "    </tr>\n",
       "  </tbody>\n",
       "</table>\n",
       "<p>26707 rows × 34 columns</p>\n",
       "</div>"
      ],
      "text/plain": [
       "       unique_id  h1n1_worry  h1n1_awareness  antiviral_medication  \\\n",
       "0              0         1.0             0.0                   0.0   \n",
       "1              1         3.0             2.0                   0.0   \n",
       "2              2         1.0             1.0                   0.0   \n",
       "3              3         1.0             1.0                   0.0   \n",
       "4              4         2.0             1.0                   0.0   \n",
       "...          ...         ...             ...                   ...   \n",
       "26702      26702         2.0             0.0                   0.0   \n",
       "26703      26703         1.0             2.0                   0.0   \n",
       "26704      26704         2.0             2.0                   0.0   \n",
       "26705      26705         1.0             1.0                   0.0   \n",
       "26706      26706         0.0             0.0                   0.0   \n",
       "\n",
       "       contact_avoidance  bought_face_mask  wash_hands_frequently  \\\n",
       "0                    0.0               0.0                    0.0   \n",
       "1                    1.0               0.0                    1.0   \n",
       "2                    1.0               0.0                    0.0   \n",
       "3                    1.0               0.0                    1.0   \n",
       "4                    1.0               0.0                    1.0   \n",
       "...                  ...               ...                    ...   \n",
       "26702                1.0               0.0                    0.0   \n",
       "26703                1.0               0.0                    1.0   \n",
       "26704                1.0               1.0                    1.0   \n",
       "26705                0.0               0.0                    0.0   \n",
       "26706                1.0               0.0                    0.0   \n",
       "\n",
       "       avoid_large_gatherings  reduced_outside_home_cont  avoid_touch_face  \\\n",
       "0                         0.0                        1.0               1.0   \n",
       "1                         0.0                        1.0               1.0   \n",
       "2                         0.0                        0.0               0.0   \n",
       "3                         1.0                        0.0               0.0   \n",
       "4                         1.0                        0.0               1.0   \n",
       "...                       ...                        ...               ...   \n",
       "26702                     0.0                        1.0               0.0   \n",
       "26703                     0.0                        0.0               0.0   \n",
       "26704                     1.0                        0.0               1.0   \n",
       "26705                     0.0                        0.0               NaN   \n",
       "26706                     0.0                        0.0               0.0   \n",
       "\n",
       "       ...      race     sex               income_level  marital_status  \\\n",
       "0      ...     White  Female              Below Poverty     Not Married   \n",
       "1      ...     White    Male              Below Poverty     Not Married   \n",
       "2      ...     White    Male  <= $75,000, Above Poverty     Not Married   \n",
       "3      ...     White  Female              Below Poverty     Not Married   \n",
       "4      ...     White  Female  <= $75,000, Above Poverty         Married   \n",
       "...    ...       ...     ...                        ...             ...   \n",
       "26702  ...     White  Female  <= $75,000, Above Poverty     Not Married   \n",
       "26703  ...     White    Male  <= $75,000, Above Poverty     Not Married   \n",
       "26704  ...     White  Female                        NaN     Not Married   \n",
       "26705  ...  Hispanic  Female  <= $75,000, Above Poverty         Married   \n",
       "26706  ...     White    Male  <= $75,000, Above Poverty         Married   \n",
       "\n",
       "       housing_status          employment                census_msa  \\\n",
       "0                 Own  Not in Labor Force                   Non-MSA   \n",
       "1                Rent            Employed  MSA, Not Principle  City   \n",
       "2                 Own            Employed  MSA, Not Principle  City   \n",
       "3                Rent  Not in Labor Force       MSA, Principle City   \n",
       "4                 Own            Employed  MSA, Not Principle  City   \n",
       "...               ...                 ...                       ...   \n",
       "26702             Own  Not in Labor Force                   Non-MSA   \n",
       "26703            Rent            Employed       MSA, Principle City   \n",
       "26704             Own                 NaN  MSA, Not Principle  City   \n",
       "26705            Rent            Employed                   Non-MSA   \n",
       "26706             Own  Not in Labor Force       MSA, Principle City   \n",
       "\n",
       "       no_of_adults  no_of_children  h1n1_vaccine  \n",
       "0               0.0             0.0             0  \n",
       "1               0.0             0.0             0  \n",
       "2               2.0             0.0             0  \n",
       "3               0.0             0.0             0  \n",
       "4               1.0             0.0             0  \n",
       "...             ...             ...           ...  \n",
       "26702           0.0             0.0             0  \n",
       "26703           1.0             0.0             0  \n",
       "26704           0.0             0.0             0  \n",
       "26705           1.0             0.0             0  \n",
       "26706           1.0             0.0             0  \n",
       "\n",
       "[26707 rows x 34 columns]"
      ]
     },
     "execution_count": 3,
     "metadata": {},
     "output_type": "execute_result"
    }
   ],
   "source": [
    "df"
   ]
  },
  {
   "cell_type": "code",
   "execution_count": 4,
   "metadata": {},
   "outputs": [
    {
     "name": "stdout",
     "output_type": "stream",
     "text": [
      "<class 'pandas.core.frame.DataFrame'>\n",
      "RangeIndex: 26707 entries, 0 to 26706\n",
      "Data columns (total 34 columns):\n",
      " #   Column                     Non-Null Count  Dtype  \n",
      "---  ------                     --------------  -----  \n",
      " 0   unique_id                  26707 non-null  int64  \n",
      " 1   h1n1_worry                 26615 non-null  float64\n",
      " 2   h1n1_awareness             26591 non-null  float64\n",
      " 3   antiviral_medication       26636 non-null  float64\n",
      " 4   contact_avoidance          26499 non-null  float64\n",
      " 5   bought_face_mask           26688 non-null  float64\n",
      " 6   wash_hands_frequently      26665 non-null  float64\n",
      " 7   avoid_large_gatherings     26620 non-null  float64\n",
      " 8   reduced_outside_home_cont  26625 non-null  float64\n",
      " 9   avoid_touch_face           26579 non-null  float64\n",
      " 10  dr_recc_h1n1_vacc          24547 non-null  float64\n",
      " 11  dr_recc_seasonal_vacc      24547 non-null  float64\n",
      " 12  chronic_medic_condition    25736 non-null  float64\n",
      " 13  cont_child_undr_6_mnths    25887 non-null  float64\n",
      " 14  is_health_worker           25903 non-null  float64\n",
      " 15  has_health_insur           14433 non-null  float64\n",
      " 16  is_h1n1_vacc_effective     26316 non-null  float64\n",
      " 17  is_h1n1_risky              26319 non-null  float64\n",
      " 18  sick_from_h1n1_vacc        26312 non-null  float64\n",
      " 19  is_seas_vacc_effective     26245 non-null  float64\n",
      " 20  is_seas_risky              26193 non-null  float64\n",
      " 21  sick_from_seas_vacc        26170 non-null  float64\n",
      " 22  age_bracket                26707 non-null  object \n",
      " 23  qualification              25300 non-null  object \n",
      " 24  race                       26707 non-null  object \n",
      " 25  sex                        26707 non-null  object \n",
      " 26  income_level               22284 non-null  object \n",
      " 27  marital_status             25299 non-null  object \n",
      " 28  housing_status             24665 non-null  object \n",
      " 29  employment                 25244 non-null  object \n",
      " 30  census_msa                 26707 non-null  object \n",
      " 31  no_of_adults               26458 non-null  float64\n",
      " 32  no_of_children             26458 non-null  float64\n",
      " 33  h1n1_vaccine               26707 non-null  int64  \n",
      "dtypes: float64(23), int64(2), object(9)\n",
      "memory usage: 6.9+ MB\n"
     ]
    }
   ],
   "source": [
    "df.info()"
   ]
  },
  {
   "cell_type": "code",
   "execution_count": 5,
   "metadata": {},
   "outputs": [
    {
     "data": {
      "text/plain": [
       "<AxesSubplot:>"
      ]
     },
     "execution_count": 5,
     "metadata": {},
     "output_type": "execute_result"
    },
    {
     "data": {
      "image/png": "[encoded data removed]",
      "text/plain": [
       "<Figure size 432x288 with 2 Axes>"
      ]
     },
     "metadata": {
      "needs_background": "light"
     },
     "output_type": "display_data"
    }
   ],
   "source": [
    "sns.heatmap(df.isnull())"
   ]
  },
  {
   "cell_type": "code",
   "execution_count": 6,
   "metadata": {},
   "outputs": [
    {
     "data": {
      "text/plain": [
       "unique_id                        0\n",
       "h1n1_worry                      92\n",
       "h1n1_awareness                 116\n",
       "antiviral_medication            71\n",
       "contact_avoidance              208\n",
       "bought_face_mask                19\n",
       "wash_hands_frequently           42\n",
       "avoid_large_gatherings          87\n",
       "reduced_outside_home_cont       82\n",
       "avoid_touch_face               128\n",
       "dr_recc_h1n1_vacc             2160\n",
       "dr_recc_seasonal_vacc         2160\n",
       "chronic_medic_condition        971\n",
       "cont_child_undr_6_mnths        820\n",
       "is_health_worker               804\n",
       "has_health_insur             12274\n",
       "is_h1n1_vacc_effective         391\n",
       "is_h1n1_risky                  388\n",
       "sick_from_h1n1_vacc            395\n",
       "is_seas_vacc_effective         462\n",
       "is_seas_risky                  514\n",
       "sick_from_seas_vacc            537\n",
       "age_bracket                      0\n",
       "qualification                 1407\n",
       "race                             0\n",
       "sex                              0\n",
       "income_level                  4423\n",
       "marital_status                1408\n",
       "housing_status                2042\n",
       "employment                    1463\n",
       "census_msa                       0\n",
       "no_of_adults                   249\n",
       "no_of_children                 249\n",
       "h1n1_vaccine                     0\n",
       "dtype: int64"
      ]
     },
     "execution_count": 6,
     "metadata": {},
     "output_type": "execute_result"
    }
   ],
   "source": [
    "df.isnull().sum()"
   ]
  },
  {
   "cell_type": "code",
   "execution_count": 7,
   "metadata": {},
   "outputs": [
    {
     "data": {
      "text/plain": [
       "<AxesSubplot:>"
      ]
     },
     "execution_count": 7,
     "metadata": {},
     "output_type": "execute_result"
    },
    {
     "data": {
      "image/png": "[encoded data removed]",
      "text/plain": [
       "<Figure size 1296x720 with 2 Axes>"
      ]
     },
     "metadata": {
      "needs_background": "light"
     },
     "output_type": "display_data"
    }
   ],
   "source": [
    "plt.figure(figsize=(18,10))\n",
    "sns.heatmap(df.corr(),annot=True)"
   ]
  },
  {
   "cell_type": "code",
   "execution_count": 8,
   "metadata": {},
   "outputs": [
    {
     "data": {
      "text/plain": [
       "<AxesSubplot:xlabel='h1n1_worry', ylabel='count'>"
      ]
     },
     "execution_count": 8,
     "metadata": {},
     "output_type": "execute_result"
    },
    {
     "data": {
      "image/png": "[encoded data removed]",
      "text/plain": [
       "<Figure size 432x288 with 1 Axes>"
      ]
     },
     "metadata": {
      "needs_background": "light"
     },
     "output_type": "display_data"
    }
   ],
   "source": [
    "sns.countplot('h1n1_worry',data=df)"
   ]
  },
  {
   "cell_type": "code",
   "execution_count": 9,
   "metadata": {},
   "outputs": [],
   "source": [
    "df['h1n1_worry']=df['h1n1_worry'].fillna(df['h1n1_worry'].mode())"
   ]
  },
  {
   "cell_type": "code",
   "execution_count": 10,
   "metadata": {},
   "outputs": [
    {
     "data": {
      "text/html": [
       "<div>\n",
       "<style scoped>\n",
       "    .dataframe tbody tr th:only-of-type {\n",
       "        vertical-align: middle;\n",
       "    }\n",
       "\n",
       "    .dataframe tbody tr th {\n",
       "        vertical-align: top;\n",
       "    }\n",
       "\n",
       "    .dataframe thead th {\n",
       "        text-align: right;\n",
       "    }\n",
       "</style>\n",
       "<table border=\"1\" class=\"dataframe\">\n",
       "  <thead>\n",
       "    <tr style=\"text-align: right;\">\n",
       "      <th></th>\n",
       "      <th>unique_id</th>\n",
       "      <th>h1n1_worry</th>\n",
       "      <th>h1n1_awareness</th>\n",
       "      <th>antiviral_medication</th>\n",
       "      <th>contact_avoidance</th>\n",
       "      <th>bought_face_mask</th>\n",
       "      <th>wash_hands_frequently</th>\n",
       "      <th>avoid_large_gatherings</th>\n",
       "      <th>reduced_outside_home_cont</th>\n",
       "      <th>avoid_touch_face</th>\n",
       "      <th>...</th>\n",
       "      <th>race</th>\n",
       "      <th>sex</th>\n",
       "      <th>income_level</th>\n",
       "      <th>marital_status</th>\n",
       "      <th>housing_status</th>\n",
       "      <th>employment</th>\n",
       "      <th>census_msa</th>\n",
       "      <th>no_of_adults</th>\n",
       "      <th>no_of_children</th>\n",
       "      <th>h1n1_vaccine</th>\n",
       "    </tr>\n",
       "  </thead>\n",
       "  <tbody>\n",
       "    <tr>\n",
       "      <th>44</th>\n",
       "      <td>44</td>\n",
       "      <td>NaN</td>\n",
       "      <td>2.0</td>\n",
       "      <td>0.0</td>\n",
       "      <td>0.0</td>\n",
       "      <td>0.0</td>\n",
       "      <td>1.0</td>\n",
       "      <td>0.0</td>\n",
       "      <td>0.0</td>\n",
       "      <td>0.0</td>\n",
       "      <td>...</td>\n",
       "      <td>White</td>\n",
       "      <td>Female</td>\n",
       "      <td>&lt;= $75,000, Above Poverty</td>\n",
       "      <td>Not Married</td>\n",
       "      <td>Rent</td>\n",
       "      <td>Employed</td>\n",
       "      <td>MSA, Principle City</td>\n",
       "      <td>1.0</td>\n",
       "      <td>0.0</td>\n",
       "      <td>0</td>\n",
       "    </tr>\n",
       "    <tr>\n",
       "      <th>96</th>\n",
       "      <td>96</td>\n",
       "      <td>NaN</td>\n",
       "      <td>1.0</td>\n",
       "      <td>0.0</td>\n",
       "      <td>1.0</td>\n",
       "      <td>0.0</td>\n",
       "      <td>1.0</td>\n",
       "      <td>0.0</td>\n",
       "      <td>NaN</td>\n",
       "      <td>0.0</td>\n",
       "      <td>...</td>\n",
       "      <td>White</td>\n",
       "      <td>Female</td>\n",
       "      <td>&lt;= $75,000, Above Poverty</td>\n",
       "      <td>Not Married</td>\n",
       "      <td>Own</td>\n",
       "      <td>Not in Labor Force</td>\n",
       "      <td>Non-MSA</td>\n",
       "      <td>0.0</td>\n",
       "      <td>0.0</td>\n",
       "      <td>0</td>\n",
       "    </tr>\n",
       "    <tr>\n",
       "      <th>150</th>\n",
       "      <td>150</td>\n",
       "      <td>NaN</td>\n",
       "      <td>1.0</td>\n",
       "      <td>0.0</td>\n",
       "      <td>0.0</td>\n",
       "      <td>0.0</td>\n",
       "      <td>1.0</td>\n",
       "      <td>0.0</td>\n",
       "      <td>0.0</td>\n",
       "      <td>0.0</td>\n",
       "      <td>...</td>\n",
       "      <td>White</td>\n",
       "      <td>Female</td>\n",
       "      <td>&gt; $75,000</td>\n",
       "      <td>Married</td>\n",
       "      <td>Own</td>\n",
       "      <td>Employed</td>\n",
       "      <td>MSA, Not Principle  City</td>\n",
       "      <td>1.0</td>\n",
       "      <td>0.0</td>\n",
       "      <td>0</td>\n",
       "    </tr>\n",
       "    <tr>\n",
       "      <th>411</th>\n",
       "      <td>411</td>\n",
       "      <td>NaN</td>\n",
       "      <td>0.0</td>\n",
       "      <td>0.0</td>\n",
       "      <td>0.0</td>\n",
       "      <td>0.0</td>\n",
       "      <td>1.0</td>\n",
       "      <td>1.0</td>\n",
       "      <td>1.0</td>\n",
       "      <td>1.0</td>\n",
       "      <td>...</td>\n",
       "      <td>White</td>\n",
       "      <td>Female</td>\n",
       "      <td>Below Poverty</td>\n",
       "      <td>Not Married</td>\n",
       "      <td>Rent</td>\n",
       "      <td>Not in Labor Force</td>\n",
       "      <td>MSA, Not Principle  City</td>\n",
       "      <td>0.0</td>\n",
       "      <td>0.0</td>\n",
       "      <td>1</td>\n",
       "    </tr>\n",
       "    <tr>\n",
       "      <th>758</th>\n",
       "      <td>758</td>\n",
       "      <td>NaN</td>\n",
       "      <td>1.0</td>\n",
       "      <td>0.0</td>\n",
       "      <td>NaN</td>\n",
       "      <td>0.0</td>\n",
       "      <td>0.0</td>\n",
       "      <td>0.0</td>\n",
       "      <td>0.0</td>\n",
       "      <td>NaN</td>\n",
       "      <td>...</td>\n",
       "      <td>White</td>\n",
       "      <td>Female</td>\n",
       "      <td>NaN</td>\n",
       "      <td>Not Married</td>\n",
       "      <td>Rent</td>\n",
       "      <td>Not in Labor Force</td>\n",
       "      <td>MSA, Not Principle  City</td>\n",
       "      <td>0.0</td>\n",
       "      <td>0.0</td>\n",
       "      <td>0</td>\n",
       "    </tr>\n",
       "    <tr>\n",
       "      <th>...</th>\n",
       "      <td>...</td>\n",
       "      <td>...</td>\n",
       "      <td>...</td>\n",
       "      <td>...</td>\n",
       "      <td>...</td>\n",
       "      <td>...</td>\n",
       "      <td>...</td>\n",
       "      <td>...</td>\n",
       "      <td>...</td>\n",
       "      <td>...</td>\n",
       "      <td>...</td>\n",
       "      <td>...</td>\n",
       "      <td>...</td>\n",
       "      <td>...</td>\n",
       "      <td>...</td>\n",
       "      <td>...</td>\n",
       "      <td>...</td>\n",
       "      <td>...</td>\n",
       "      <td>...</td>\n",
       "      <td>...</td>\n",
       "      <td>...</td>\n",
       "    </tr>\n",
       "    <tr>\n",
       "      <th>25788</th>\n",
       "      <td>25788</td>\n",
       "      <td>NaN</td>\n",
       "      <td>0.0</td>\n",
       "      <td>0.0</td>\n",
       "      <td>1.0</td>\n",
       "      <td>0.0</td>\n",
       "      <td>1.0</td>\n",
       "      <td>0.0</td>\n",
       "      <td>0.0</td>\n",
       "      <td>1.0</td>\n",
       "      <td>...</td>\n",
       "      <td>White</td>\n",
       "      <td>Female</td>\n",
       "      <td>&lt;= $75,000, Above Poverty</td>\n",
       "      <td>Married</td>\n",
       "      <td>Own</td>\n",
       "      <td>Not in Labor Force</td>\n",
       "      <td>MSA, Not Principle  City</td>\n",
       "      <td>1.0</td>\n",
       "      <td>0.0</td>\n",
       "      <td>0</td>\n",
       "    </tr>\n",
       "    <tr>\n",
       "      <th>25883</th>\n",
       "      <td>25883</td>\n",
       "      <td>NaN</td>\n",
       "      <td>2.0</td>\n",
       "      <td>0.0</td>\n",
       "      <td>0.0</td>\n",
       "      <td>0.0</td>\n",
       "      <td>0.0</td>\n",
       "      <td>0.0</td>\n",
       "      <td>0.0</td>\n",
       "      <td>0.0</td>\n",
       "      <td>...</td>\n",
       "      <td>White</td>\n",
       "      <td>Female</td>\n",
       "      <td>&gt; $75,000</td>\n",
       "      <td>Married</td>\n",
       "      <td>Own</td>\n",
       "      <td>Employed</td>\n",
       "      <td>MSA, Not Principle  City</td>\n",
       "      <td>1.0</td>\n",
       "      <td>0.0</td>\n",
       "      <td>0</td>\n",
       "    </tr>\n",
       "    <tr>\n",
       "      <th>25948</th>\n",
       "      <td>25948</td>\n",
       "      <td>NaN</td>\n",
       "      <td>0.0</td>\n",
       "      <td>0.0</td>\n",
       "      <td>0.0</td>\n",
       "      <td>0.0</td>\n",
       "      <td>1.0</td>\n",
       "      <td>1.0</td>\n",
       "      <td>0.0</td>\n",
       "      <td>1.0</td>\n",
       "      <td>...</td>\n",
       "      <td>Black</td>\n",
       "      <td>Female</td>\n",
       "      <td>&lt;= $75,000, Above Poverty</td>\n",
       "      <td>Married</td>\n",
       "      <td>Own</td>\n",
       "      <td>Not in Labor Force</td>\n",
       "      <td>MSA, Principle City</td>\n",
       "      <td>1.0</td>\n",
       "      <td>0.0</td>\n",
       "      <td>1</td>\n",
       "    </tr>\n",
       "    <tr>\n",
       "      <th>26358</th>\n",
       "      <td>26358</td>\n",
       "      <td>NaN</td>\n",
       "      <td>0.0</td>\n",
       "      <td>0.0</td>\n",
       "      <td>1.0</td>\n",
       "      <td>0.0</td>\n",
       "      <td>0.0</td>\n",
       "      <td>1.0</td>\n",
       "      <td>0.0</td>\n",
       "      <td>0.0</td>\n",
       "      <td>...</td>\n",
       "      <td>White</td>\n",
       "      <td>Female</td>\n",
       "      <td>Below Poverty</td>\n",
       "      <td>Not Married</td>\n",
       "      <td>Rent</td>\n",
       "      <td>Not in Labor Force</td>\n",
       "      <td>Non-MSA</td>\n",
       "      <td>0.0</td>\n",
       "      <td>0.0</td>\n",
       "      <td>0</td>\n",
       "    </tr>\n",
       "    <tr>\n",
       "      <th>26471</th>\n",
       "      <td>26471</td>\n",
       "      <td>NaN</td>\n",
       "      <td>2.0</td>\n",
       "      <td>0.0</td>\n",
       "      <td>0.0</td>\n",
       "      <td>0.0</td>\n",
       "      <td>0.0</td>\n",
       "      <td>0.0</td>\n",
       "      <td>0.0</td>\n",
       "      <td>0.0</td>\n",
       "      <td>...</td>\n",
       "      <td>White</td>\n",
       "      <td>Male</td>\n",
       "      <td>NaN</td>\n",
       "      <td>Not Married</td>\n",
       "      <td>Own</td>\n",
       "      <td>Not in Labor Force</td>\n",
       "      <td>MSA, Principle City</td>\n",
       "      <td>0.0</td>\n",
       "      <td>0.0</td>\n",
       "      <td>0</td>\n",
       "    </tr>\n",
       "  </tbody>\n",
       "</table>\n",
       "<p>92 rows × 34 columns</p>\n",
       "</div>"
      ],
      "text/plain": [
       "       unique_id  h1n1_worry  h1n1_awareness  antiviral_medication  \\\n",
       "44            44         NaN             2.0                   0.0   \n",
       "96            96         NaN             1.0                   0.0   \n",
       "150          150         NaN             1.0                   0.0   \n",
       "411          411         NaN             0.0                   0.0   \n",
       "758          758         NaN             1.0                   0.0   \n",
       "...          ...         ...             ...                   ...   \n",
       "25788      25788         NaN             0.0                   0.0   \n",
       "25883      25883         NaN             2.0                   0.0   \n",
       "25948      25948         NaN             0.0                   0.0   \n",
       "26358      26358         NaN             0.0                   0.0   \n",
       "26471      26471         NaN             2.0                   0.0   \n",
       "\n",
       "       contact_avoidance  bought_face_mask  wash_hands_frequently  \\\n",
       "44                   0.0               0.0                    1.0   \n",
       "96                   1.0               0.0                    1.0   \n",
       "150                  0.0               0.0                    1.0   \n",
       "411                  0.0               0.0                    1.0   \n",
       "758                  NaN               0.0                    0.0   \n",
       "...                  ...               ...                    ...   \n",
       "25788                1.0               0.0                    1.0   \n",
       "25883                0.0               0.0                    0.0   \n",
       "25948                0.0               0.0                    1.0   \n",
       "26358                1.0               0.0                    0.0   \n",
       "26471                0.0               0.0                    0.0   \n",
       "\n",
       "       avoid_large_gatherings  reduced_outside_home_cont  avoid_touch_face  \\\n",
       "44                        0.0                        0.0               0.0   \n",
       "96                        0.0                        NaN               0.0   \n",
       "150                       0.0                        0.0               0.0   \n",
       "411                       1.0                        1.0               1.0   \n",
       "758                       0.0                        0.0               NaN   \n",
       "...                       ...                        ...               ...   \n",
       "25788                     0.0                        0.0               1.0   \n",
       "25883                     0.0                        0.0               0.0   \n",
       "25948                     1.0                        0.0               1.0   \n",
       "26358                     1.0                        0.0               0.0   \n",
       "26471                     0.0                        0.0               0.0   \n",
       "\n",
       "       ...   race     sex               income_level  marital_status  \\\n",
       "44     ...  White  Female  <= $75,000, Above Poverty     Not Married   \n",
       "96     ...  White  Female  <= $75,000, Above Poverty     Not Married   \n",
       "150    ...  White  Female                  > $75,000         Married   \n",
       "411    ...  White  Female              Below Poverty     Not Married   \n",
       "758    ...  White  Female                        NaN     Not Married   \n",
       "...    ...    ...     ...                        ...             ...   \n",
       "25788  ...  White  Female  <= $75,000, Above Poverty         Married   \n",
       "25883  ...  White  Female                  > $75,000         Married   \n",
       "25948  ...  Black  Female  <= $75,000, Above Poverty         Married   \n",
       "26358  ...  White  Female              Below Poverty     Not Married   \n",
       "26471  ...  White    Male                        NaN     Not Married   \n",
       "\n",
       "       housing_status          employment                census_msa  \\\n",
       "44               Rent            Employed       MSA, Principle City   \n",
       "96                Own  Not in Labor Force                   Non-MSA   \n",
       "150               Own            Employed  MSA, Not Principle  City   \n",
       "411              Rent  Not in Labor Force  MSA, Not Principle  City   \n",
       "758              Rent  Not in Labor Force  MSA, Not Principle  City   \n",
       "...               ...                 ...                       ...   \n",
       "25788             Own  Not in Labor Force  MSA, Not Principle  City   \n",
       "25883             Own            Employed  MSA, Not Principle  City   \n",
       "25948             Own  Not in Labor Force       MSA, Principle City   \n",
       "26358            Rent  Not in Labor Force                   Non-MSA   \n",
       "26471             Own  Not in Labor Force       MSA, Principle City   \n",
       "\n",
       "       no_of_adults  no_of_children  h1n1_vaccine  \n",
       "44              1.0             0.0             0  \n",
       "96              0.0             0.0             0  \n",
       "150             1.0             0.0             0  \n",
       "411             0.0             0.0             1  \n",
       "758             0.0             0.0             0  \n",
       "...             ...             ...           ...  \n",
       "25788           1.0             0.0             0  \n",
       "25883           1.0             0.0             0  \n",
       "25948           1.0             0.0             1  \n",
       "26358           0.0             0.0             0  \n",
       "26471           0.0             0.0             0  \n",
       "\n",
       "[92 rows x 34 columns]"
      ]
     },
     "execution_count": 10,
     "metadata": {},
     "output_type": "execute_result"
    }
   ],
   "source": [
    "df[df['h1n1_worry'].isnull()]"
   ]
  },
  {
   "cell_type": "code",
   "execution_count": 11,
   "metadata": {},
   "outputs": [],
   "source": [
    "df.drop(['sick_from_seas_vacc','no_of_adults','no_of_children','unique_id'],axis=1,inplace=True)"
   ]
  },
  {
   "cell_type": "code",
   "execution_count": 12,
   "metadata": {},
   "outputs": [],
   "source": [
    "df.drop('has_health_insur',axis=1,inplace=True)"
   ]
  },
  {
   "cell_type": "code",
   "execution_count": 13,
   "metadata": {},
   "outputs": [
    {
     "data": {
      "text/html": [
       "<div>\n",
       "<style scoped>\n",
       "    .dataframe tbody tr th:only-of-type {\n",
       "        vertical-align: middle;\n",
       "    }\n",
       "\n",
       "    .dataframe tbody tr th {\n",
       "        vertical-align: top;\n",
       "    }\n",
       "\n",
       "    .dataframe thead th {\n",
       "        text-align: right;\n",
       "    }\n",
       "</style>\n",
       "<table border=\"1\" class=\"dataframe\">\n",
       "  <thead>\n",
       "    <tr style=\"text-align: right;\">\n",
       "      <th></th>\n",
       "      <th>h1n1_worry</th>\n",
       "      <th>h1n1_awareness</th>\n",
       "      <th>antiviral_medication</th>\n",
       "      <th>contact_avoidance</th>\n",
       "      <th>bought_face_mask</th>\n",
       "      <th>wash_hands_frequently</th>\n",
       "      <th>avoid_large_gatherings</th>\n",
       "      <th>reduced_outside_home_cont</th>\n",
       "      <th>avoid_touch_face</th>\n",
       "      <th>dr_recc_h1n1_vacc</th>\n",
       "      <th>dr_recc_seasonal_vacc</th>\n",
       "      <th>chronic_medic_condition</th>\n",
       "      <th>cont_child_undr_6_mnths</th>\n",
       "      <th>is_health_worker</th>\n",
       "      <th>is_h1n1_vacc_effective</th>\n",
       "      <th>is_h1n1_risky</th>\n",
       "      <th>sick_from_h1n1_vacc</th>\n",
       "      <th>is_seas_vacc_effective</th>\n",
       "      <th>is_seas_risky</th>\n",
       "      <th>h1n1_vaccine</th>\n",
       "    </tr>\n",
       "  </thead>\n",
       "  <tbody>\n",
       "    <tr>\n",
       "      <th>count</th>\n",
       "      <td>26615.000000</td>\n",
       "      <td>26591.000000</td>\n",
       "      <td>26636.000000</td>\n",
       "      <td>26499.000000</td>\n",
       "      <td>26688.000000</td>\n",
       "      <td>26665.000000</td>\n",
       "      <td>26620.00000</td>\n",
       "      <td>26625.000000</td>\n",
       "      <td>26579.000000</td>\n",
       "      <td>24547.000000</td>\n",
       "      <td>24547.000000</td>\n",
       "      <td>25736.000000</td>\n",
       "      <td>25887.000000</td>\n",
       "      <td>25903.000000</td>\n",
       "      <td>26316.000000</td>\n",
       "      <td>26319.000000</td>\n",
       "      <td>26312.000000</td>\n",
       "      <td>26245.000000</td>\n",
       "      <td>26193.000000</td>\n",
       "      <td>26707.000000</td>\n",
       "    </tr>\n",
       "    <tr>\n",
       "      <th>mean</th>\n",
       "      <td>1.618486</td>\n",
       "      <td>1.262532</td>\n",
       "      <td>0.048844</td>\n",
       "      <td>0.725612</td>\n",
       "      <td>0.068982</td>\n",
       "      <td>0.825614</td>\n",
       "      <td>0.35864</td>\n",
       "      <td>0.337315</td>\n",
       "      <td>0.677264</td>\n",
       "      <td>0.220312</td>\n",
       "      <td>0.329735</td>\n",
       "      <td>0.283261</td>\n",
       "      <td>0.082590</td>\n",
       "      <td>0.111918</td>\n",
       "      <td>3.850623</td>\n",
       "      <td>2.342566</td>\n",
       "      <td>2.357670</td>\n",
       "      <td>4.025986</td>\n",
       "      <td>2.719162</td>\n",
       "      <td>0.212454</td>\n",
       "    </tr>\n",
       "    <tr>\n",
       "      <th>std</th>\n",
       "      <td>0.910311</td>\n",
       "      <td>0.618149</td>\n",
       "      <td>0.215545</td>\n",
       "      <td>0.446214</td>\n",
       "      <td>0.253429</td>\n",
       "      <td>0.379448</td>\n",
       "      <td>0.47961</td>\n",
       "      <td>0.472802</td>\n",
       "      <td>0.467531</td>\n",
       "      <td>0.414466</td>\n",
       "      <td>0.470126</td>\n",
       "      <td>0.450591</td>\n",
       "      <td>0.275266</td>\n",
       "      <td>0.315271</td>\n",
       "      <td>1.007436</td>\n",
       "      <td>1.285539</td>\n",
       "      <td>1.362766</td>\n",
       "      <td>1.086565</td>\n",
       "      <td>1.385055</td>\n",
       "      <td>0.409052</td>\n",
       "    </tr>\n",
       "    <tr>\n",
       "      <th>min</th>\n",
       "      <td>0.000000</td>\n",
       "      <td>0.000000</td>\n",
       "      <td>0.000000</td>\n",
       "      <td>0.000000</td>\n",
       "      <td>0.000000</td>\n",
       "      <td>0.000000</td>\n",
       "      <td>0.00000</td>\n",
       "      <td>0.000000</td>\n",
       "      <td>0.000000</td>\n",
       "      <td>0.000000</td>\n",
       "      <td>0.000000</td>\n",
       "      <td>0.000000</td>\n",
       "      <td>0.000000</td>\n",
       "      <td>0.000000</td>\n",
       "      <td>1.000000</td>\n",
       "      <td>1.000000</td>\n",
       "      <td>1.000000</td>\n",
       "      <td>1.000000</td>\n",
       "      <td>1.000000</td>\n",
       "      <td>0.000000</td>\n",
       "    </tr>\n",
       "    <tr>\n",
       "      <th>25%</th>\n",
       "      <td>1.000000</td>\n",
       "      <td>1.000000</td>\n",
       "      <td>0.000000</td>\n",
       "      <td>0.000000</td>\n",
       "      <td>0.000000</td>\n",
       "      <td>1.000000</td>\n",
       "      <td>0.00000</td>\n",
       "      <td>0.000000</td>\n",
       "      <td>0.000000</td>\n",
       "      <td>0.000000</td>\n",
       "      <td>0.000000</td>\n",
       "      <td>0.000000</td>\n",
       "      <td>0.000000</td>\n",
       "      <td>0.000000</td>\n",
       "      <td>3.000000</td>\n",
       "      <td>1.000000</td>\n",
       "      <td>1.000000</td>\n",
       "      <td>4.000000</td>\n",
       "      <td>2.000000</td>\n",
       "      <td>0.000000</td>\n",
       "    </tr>\n",
       "    <tr>\n",
       "      <th>50%</th>\n",
       "      <td>2.000000</td>\n",
       "      <td>1.000000</td>\n",
       "      <td>0.000000</td>\n",
       "      <td>1.000000</td>\n",
       "      <td>0.000000</td>\n",
       "      <td>1.000000</td>\n",
       "      <td>0.00000</td>\n",
       "      <td>0.000000</td>\n",
       "      <td>1.000000</td>\n",
       "      <td>0.000000</td>\n",
       "      <td>0.000000</td>\n",
       "      <td>0.000000</td>\n",
       "      <td>0.000000</td>\n",
       "      <td>0.000000</td>\n",
       "      <td>4.000000</td>\n",
       "      <td>2.000000</td>\n",
       "      <td>2.000000</td>\n",
       "      <td>4.000000</td>\n",
       "      <td>2.000000</td>\n",
       "      <td>0.000000</td>\n",
       "    </tr>\n",
       "    <tr>\n",
       "      <th>75%</th>\n",
       "      <td>2.000000</td>\n",
       "      <td>2.000000</td>\n",
       "      <td>0.000000</td>\n",
       "      <td>1.000000</td>\n",
       "      <td>0.000000</td>\n",
       "      <td>1.000000</td>\n",
       "      <td>1.00000</td>\n",
       "      <td>1.000000</td>\n",
       "      <td>1.000000</td>\n",
       "      <td>0.000000</td>\n",
       "      <td>1.000000</td>\n",
       "      <td>1.000000</td>\n",
       "      <td>0.000000</td>\n",
       "      <td>0.000000</td>\n",
       "      <td>5.000000</td>\n",
       "      <td>4.000000</td>\n",
       "      <td>4.000000</td>\n",
       "      <td>5.000000</td>\n",
       "      <td>4.000000</td>\n",
       "      <td>0.000000</td>\n",
       "    </tr>\n",
       "    <tr>\n",
       "      <th>max</th>\n",
       "      <td>3.000000</td>\n",
       "      <td>2.000000</td>\n",
       "      <td>1.000000</td>\n",
       "      <td>1.000000</td>\n",
       "      <td>1.000000</td>\n",
       "      <td>1.000000</td>\n",
       "      <td>1.00000</td>\n",
       "      <td>1.000000</td>\n",
       "      <td>1.000000</td>\n",
       "      <td>1.000000</td>\n",
       "      <td>1.000000</td>\n",
       "      <td>1.000000</td>\n",
       "      <td>1.000000</td>\n",
       "      <td>1.000000</td>\n",
       "      <td>5.000000</td>\n",
       "      <td>5.000000</td>\n",
       "      <td>5.000000</td>\n",
       "      <td>5.000000</td>\n",
       "      <td>5.000000</td>\n",
       "      <td>1.000000</td>\n",
       "    </tr>\n",
       "  </tbody>\n",
       "</table>\n",
       "</div>"
      ],
      "text/plain": [
       "         h1n1_worry  h1n1_awareness  antiviral_medication  contact_avoidance  \\\n",
       "count  26615.000000    26591.000000          26636.000000       26499.000000   \n",
       "mean       1.618486        1.262532              0.048844           0.725612   \n",
       "std        0.910311        0.618149              0.215545           0.446214   \n",
       "min        0.000000        0.000000              0.000000           0.000000   \n",
       "25%        1.000000        1.000000              0.000000           0.000000   \n",
       "50%        2.000000        1.000000              0.000000           1.000000   \n",
       "75%        2.000000        2.000000              0.000000           1.000000   \n",
       "max        3.000000        2.000000              1.000000           1.000000   \n",
       "\n",
       "       bought_face_mask  wash_hands_frequently  avoid_large_gatherings  \\\n",
       "count      26688.000000           26665.000000             26620.00000   \n",
       "mean           0.068982               0.825614                 0.35864   \n",
       "std            0.253429               0.379448                 0.47961   \n",
       "min            0.000000               0.000000                 0.00000   \n",
       "25%            0.000000               1.000000                 0.00000   \n",
       "50%            0.000000               1.000000                 0.00000   \n",
       "75%            0.000000               1.000000                 1.00000   \n",
       "max            1.000000               1.000000                 1.00000   \n",
       "\n",
       "       reduced_outside_home_cont  avoid_touch_face  dr_recc_h1n1_vacc  \\\n",
       "count               26625.000000      26579.000000       24547.000000   \n",
       "mean                    0.337315          0.677264           0.220312   \n",
       "std                     0.472802          0.467531           0.414466   \n",
       "min                     0.000000          0.000000           0.000000   \n",
       "25%                     0.000000          0.000000           0.000000   \n",
       "50%                     0.000000          1.000000           0.000000   \n",
       "75%                     1.000000          1.000000           0.000000   \n",
       "max                     1.000000          1.000000           1.000000   \n",
       "\n",
       "       dr_recc_seasonal_vacc  chronic_medic_condition  \\\n",
       "count           24547.000000             25736.000000   \n",
       "mean                0.329735                 0.283261   \n",
       "std                 0.470126                 0.450591   \n",
       "min                 0.000000                 0.000000   \n",
       "25%                 0.000000                 0.000000   \n",
       "50%                 0.000000                 0.000000   \n",
       "75%                 1.000000                 1.000000   \n",
       "max                 1.000000                 1.000000   \n",
       "\n",
       "       cont_child_undr_6_mnths  is_health_worker  is_h1n1_vacc_effective  \\\n",
       "count             25887.000000      25903.000000            26316.000000   \n",
       "mean                  0.082590          0.111918                3.850623   \n",
       "std                   0.275266          0.315271                1.007436   \n",
       "min                   0.000000          0.000000                1.000000   \n",
       "25%                   0.000000          0.000000                3.000000   \n",
       "50%                   0.000000          0.000000                4.000000   \n",
       "75%                   0.000000          0.000000                5.000000   \n",
       "max                   1.000000          1.000000                5.000000   \n",
       "\n",
       "       is_h1n1_risky  sick_from_h1n1_vacc  is_seas_vacc_effective  \\\n",
       "count   26319.000000         26312.000000            26245.000000   \n",
       "mean        2.342566             2.357670                4.025986   \n",
       "std         1.285539             1.362766                1.086565   \n",
       "min         1.000000             1.000000                1.000000   \n",
       "25%         1.000000             1.000000                4.000000   \n",
       "50%         2.000000             2.000000                4.000000   \n",
       "75%         4.000000             4.000000                5.000000   \n",
       "max         5.000000             5.000000                5.000000   \n",
       "\n",
       "       is_seas_risky  h1n1_vaccine  \n",
       "count   26193.000000  26707.000000  \n",
       "mean        2.719162      0.212454  \n",
       "std         1.385055      0.409052  \n",
       "min         1.000000      0.000000  \n",
       "25%         2.000000      0.000000  \n",
       "50%         2.000000      0.000000  \n",
       "75%         4.000000      0.000000  \n",
       "max         5.000000      1.000000  "
      ]
     },
     "execution_count": 13,
     "metadata": {},
     "output_type": "execute_result"
    }
   ],
   "source": [
    "df.describe()"
   ]
  },
  {
   "cell_type": "code",
   "execution_count": 14,
   "metadata": {},
   "outputs": [
    {
     "data": {
      "text/plain": [
       "0    2.0\n",
       "dtype: float64"
      ]
     },
     "execution_count": 14,
     "metadata": {},
     "output_type": "execute_result"
    }
   ],
   "source": [
    "df['h1n1_worry'].mode()"
   ]
  },
  {
   "cell_type": "code",
   "execution_count": 15,
   "metadata": {},
   "outputs": [],
   "source": [
    "df['h1n1_worry']=df['h1n1_worry'].fillna(2)"
   ]
  },
  {
   "cell_type": "code",
   "execution_count": 16,
   "metadata": {},
   "outputs": [
    {
     "data": {
      "text/plain": [
       "0    1.0\n",
       "dtype: float64"
      ]
     },
     "execution_count": 16,
     "metadata": {},
     "output_type": "execute_result"
    }
   ],
   "source": [
    "df['h1n1_awareness'].mode()"
   ]
  },
  {
   "cell_type": "code",
   "execution_count": 17,
   "metadata": {},
   "outputs": [],
   "source": [
    "df['h1n1_awareness']=df['h1n1_awareness'].fillna(1)"
   ]
  },
  {
   "cell_type": "code",
   "execution_count": 18,
   "metadata": {},
   "outputs": [
    {
     "data": {
      "text/plain": [
       "0    0.0\n",
       "dtype: float64"
      ]
     },
     "execution_count": 18,
     "metadata": {},
     "output_type": "execute_result"
    }
   ],
   "source": [
    "df['antiviral_medication'].mode()"
   ]
  },
  {
   "cell_type": "code",
   "execution_count": 19,
   "metadata": {},
   "outputs": [],
   "source": [
    "df['antiviral_medication']=df['antiviral_medication'].fillna(0) "
   ]
  },
  {
   "cell_type": "code",
   "execution_count": 20,
   "metadata": {},
   "outputs": [
    {
     "data": {
      "text/html": [
       "<div>\n",
       "<style scoped>\n",
       "    .dataframe tbody tr th:only-of-type {\n",
       "        vertical-align: middle;\n",
       "    }\n",
       "\n",
       "    .dataframe tbody tr th {\n",
       "        vertical-align: top;\n",
       "    }\n",
       "\n",
       "    .dataframe thead th {\n",
       "        text-align: right;\n",
       "    }\n",
       "</style>\n",
       "<table border=\"1\" class=\"dataframe\">\n",
       "  <thead>\n",
       "    <tr style=\"text-align: right;\">\n",
       "      <th></th>\n",
       "      <th>wash_hands_frequently</th>\n",
       "      <th>avoid_touch_face</th>\n",
       "    </tr>\n",
       "  </thead>\n",
       "  <tbody>\n",
       "    <tr>\n",
       "      <th>42</th>\n",
       "      <td>0.0</td>\n",
       "      <td>0.0</td>\n",
       "    </tr>\n",
       "    <tr>\n",
       "      <th>76</th>\n",
       "      <td>0.0</td>\n",
       "      <td>0.0</td>\n",
       "    </tr>\n",
       "    <tr>\n",
       "      <th>198</th>\n",
       "      <td>1.0</td>\n",
       "      <td>1.0</td>\n",
       "    </tr>\n",
       "    <tr>\n",
       "      <th>280</th>\n",
       "      <td>1.0</td>\n",
       "      <td>1.0</td>\n",
       "    </tr>\n",
       "    <tr>\n",
       "      <th>501</th>\n",
       "      <td>1.0</td>\n",
       "      <td>1.0</td>\n",
       "    </tr>\n",
       "    <tr>\n",
       "      <th>...</th>\n",
       "      <td>...</td>\n",
       "      <td>...</td>\n",
       "    </tr>\n",
       "    <tr>\n",
       "      <th>25987</th>\n",
       "      <td>1.0</td>\n",
       "      <td>1.0</td>\n",
       "    </tr>\n",
       "    <tr>\n",
       "      <th>26257</th>\n",
       "      <td>1.0</td>\n",
       "      <td>0.0</td>\n",
       "    </tr>\n",
       "    <tr>\n",
       "      <th>26401</th>\n",
       "      <td>1.0</td>\n",
       "      <td>1.0</td>\n",
       "    </tr>\n",
       "    <tr>\n",
       "      <th>26613</th>\n",
       "      <td>1.0</td>\n",
       "      <td>0.0</td>\n",
       "    </tr>\n",
       "    <tr>\n",
       "      <th>26687</th>\n",
       "      <td>1.0</td>\n",
       "      <td>1.0</td>\n",
       "    </tr>\n",
       "  </tbody>\n",
       "</table>\n",
       "<p>208 rows × 2 columns</p>\n",
       "</div>"
      ],
      "text/plain": [
       "       wash_hands_frequently  avoid_touch_face\n",
       "42                       0.0               0.0\n",
       "76                       0.0               0.0\n",
       "198                      1.0               1.0\n",
       "280                      1.0               1.0\n",
       "501                      1.0               1.0\n",
       "...                      ...               ...\n",
       "25987                    1.0               1.0\n",
       "26257                    1.0               0.0\n",
       "26401                    1.0               1.0\n",
       "26613                    1.0               0.0\n",
       "26687                    1.0               1.0\n",
       "\n",
       "[208 rows x 2 columns]"
      ]
     },
     "execution_count": 20,
     "metadata": {},
     "output_type": "execute_result"
    }
   ],
   "source": [
    "df[df['contact_avoidance'].isnull()][['wash_hands_frequently','avoid_touch_face']]"
   ]
  },
  {
   "cell_type": "code",
   "execution_count": 21,
   "metadata": {},
   "outputs": [],
   "source": [
    "def fn(coln):\n",
    "    wash=coln[0]\n",
    "    avoid=coln[1]\n",
    "    con=coln[2]\n",
    "    if pd.isnull(con):\n",
    "        if wash==1 and avoid==1:\n",
    "            return 1\n",
    "        else:\n",
    "            return 0\n",
    "    else:\n",
    "        return con\n",
    "df['contact_avoidance']=df[['wash_hands_frequently','avoid_touch_face','contact_avoidance']].apply(fn,axis=1)"
   ]
  },
  {
   "cell_type": "code",
   "execution_count": 22,
   "metadata": {},
   "outputs": [
    {
     "data": {
      "text/plain": [
       "0    0.0\n",
       "dtype: float64"
      ]
     },
     "execution_count": 22,
     "metadata": {},
     "output_type": "execute_result"
    }
   ],
   "source": [
    "df['bought_face_mask'].mode()"
   ]
  },
  {
   "cell_type": "code",
   "execution_count": 23,
   "metadata": {},
   "outputs": [],
   "source": [
    "df['bought_face_mask']=df['bought_face_mask'].fillna(0)"
   ]
  },
  {
   "cell_type": "code",
   "execution_count": 24,
   "metadata": {},
   "outputs": [
    {
     "data": {
      "text/plain": [
       "0    1.0\n",
       "dtype: float64"
      ]
     },
     "execution_count": 24,
     "metadata": {},
     "output_type": "execute_result"
    }
   ],
   "source": [
    "df['wash_hands_frequently'].mode()"
   ]
  },
  {
   "cell_type": "code",
   "execution_count": 25,
   "metadata": {},
   "outputs": [],
   "source": [
    "df['wash_hands_frequently']=df['wash_hands_frequently'].fillna(1)"
   ]
  },
  {
   "cell_type": "code",
   "execution_count": 26,
   "metadata": {},
   "outputs": [
    {
     "data": {
      "text/plain": [
       "0    0.0\n",
       "dtype: float64"
      ]
     },
     "execution_count": 26,
     "metadata": {},
     "output_type": "execute_result"
    }
   ],
   "source": [
    "df['avoid_large_gatherings'].mode()"
   ]
  },
  {
   "cell_type": "code",
   "execution_count": 27,
   "metadata": {},
   "outputs": [],
   "source": [
    "df['avoid_large_gatherings']=df['avoid_large_gatherings'].fillna(0)"
   ]
  },
  {
   "cell_type": "code",
   "execution_count": 28,
   "metadata": {},
   "outputs": [
    {
     "data": {
      "text/plain": [
       "0    0.0\n",
       "dtype: float64"
      ]
     },
     "execution_count": 28,
     "metadata": {},
     "output_type": "execute_result"
    }
   ],
   "source": [
    "df['reduced_outside_home_cont'].mode()"
   ]
  },
  {
   "cell_type": "code",
   "execution_count": 29,
   "metadata": {},
   "outputs": [],
   "source": [
    "df['reduced_outside_home_cont']=df['reduced_outside_home_cont'].fillna(0)"
   ]
  },
  {
   "cell_type": "code",
   "execution_count": 30,
   "metadata": {},
   "outputs": [
    {
     "data": {
      "text/plain": [
       "0    1.0\n",
       "dtype: float64"
      ]
     },
     "execution_count": 30,
     "metadata": {},
     "output_type": "execute_result"
    }
   ],
   "source": [
    "df['avoid_touch_face'].mode()"
   ]
  },
  {
   "cell_type": "code",
   "execution_count": 31,
   "metadata": {},
   "outputs": [],
   "source": [
    "df['avoid_touch_face']=df['avoid_touch_face'].fillna(1)"
   ]
  },
  {
   "cell_type": "code",
   "execution_count": 32,
   "metadata": {},
   "outputs": [
    {
     "data": {
      "text/html": [
       "<div>\n",
       "<style scoped>\n",
       "    .dataframe tbody tr th:only-of-type {\n",
       "        vertical-align: middle;\n",
       "    }\n",
       "\n",
       "    .dataframe tbody tr th {\n",
       "        vertical-align: top;\n",
       "    }\n",
       "\n",
       "    .dataframe thead th {\n",
       "        text-align: right;\n",
       "    }\n",
       "</style>\n",
       "<table border=\"1\" class=\"dataframe\">\n",
       "  <thead>\n",
       "    <tr style=\"text-align: right;\">\n",
       "      <th></th>\n",
       "      <th>h1n1_worry</th>\n",
       "      <th>h1n1_awareness</th>\n",
       "      <th>antiviral_medication</th>\n",
       "      <th>contact_avoidance</th>\n",
       "      <th>bought_face_mask</th>\n",
       "      <th>wash_hands_frequently</th>\n",
       "      <th>avoid_large_gatherings</th>\n",
       "      <th>reduced_outside_home_cont</th>\n",
       "      <th>avoid_touch_face</th>\n",
       "      <th>dr_recc_h1n1_vacc</th>\n",
       "      <th>...</th>\n",
       "      <th>age_bracket</th>\n",
       "      <th>qualification</th>\n",
       "      <th>race</th>\n",
       "      <th>sex</th>\n",
       "      <th>income_level</th>\n",
       "      <th>marital_status</th>\n",
       "      <th>housing_status</th>\n",
       "      <th>employment</th>\n",
       "      <th>census_msa</th>\n",
       "      <th>h1n1_vaccine</th>\n",
       "    </tr>\n",
       "  </thead>\n",
       "  <tbody>\n",
       "    <tr>\n",
       "      <th>2</th>\n",
       "      <td>1.0</td>\n",
       "      <td>1.0</td>\n",
       "      <td>0.0</td>\n",
       "      <td>1.0</td>\n",
       "      <td>0.0</td>\n",
       "      <td>0.0</td>\n",
       "      <td>0.0</td>\n",
       "      <td>0.0</td>\n",
       "      <td>0.0</td>\n",
       "      <td>NaN</td>\n",
       "      <td>...</td>\n",
       "      <td>18 - 34 Years</td>\n",
       "      <td>College Graduate</td>\n",
       "      <td>White</td>\n",
       "      <td>Male</td>\n",
       "      <td>&lt;= $75,000, Above Poverty</td>\n",
       "      <td>Not Married</td>\n",
       "      <td>Own</td>\n",
       "      <td>Employed</td>\n",
       "      <td>MSA, Not Principle  City</td>\n",
       "      <td>0</td>\n",
       "    </tr>\n",
       "    <tr>\n",
       "      <th>76</th>\n",
       "      <td>2.0</td>\n",
       "      <td>1.0</td>\n",
       "      <td>0.0</td>\n",
       "      <td>0.0</td>\n",
       "      <td>0.0</td>\n",
       "      <td>0.0</td>\n",
       "      <td>0.0</td>\n",
       "      <td>0.0</td>\n",
       "      <td>0.0</td>\n",
       "      <td>NaN</td>\n",
       "      <td>...</td>\n",
       "      <td>55 - 64 Years</td>\n",
       "      <td>College Graduate</td>\n",
       "      <td>White</td>\n",
       "      <td>Male</td>\n",
       "      <td>&gt; $75,000</td>\n",
       "      <td>Not Married</td>\n",
       "      <td>Own</td>\n",
       "      <td>Employed</td>\n",
       "      <td>MSA, Principle City</td>\n",
       "      <td>0</td>\n",
       "    </tr>\n",
       "    <tr>\n",
       "      <th>90</th>\n",
       "      <td>1.0</td>\n",
       "      <td>1.0</td>\n",
       "      <td>0.0</td>\n",
       "      <td>1.0</td>\n",
       "      <td>0.0</td>\n",
       "      <td>1.0</td>\n",
       "      <td>0.0</td>\n",
       "      <td>0.0</td>\n",
       "      <td>1.0</td>\n",
       "      <td>NaN</td>\n",
       "      <td>...</td>\n",
       "      <td>18 - 34 Years</td>\n",
       "      <td>College Graduate</td>\n",
       "      <td>Other or Multiple</td>\n",
       "      <td>Female</td>\n",
       "      <td>NaN</td>\n",
       "      <td>Not Married</td>\n",
       "      <td>Rent</td>\n",
       "      <td>Employed</td>\n",
       "      <td>Non-MSA</td>\n",
       "      <td>0</td>\n",
       "    </tr>\n",
       "    <tr>\n",
       "      <th>94</th>\n",
       "      <td>2.0</td>\n",
       "      <td>0.0</td>\n",
       "      <td>1.0</td>\n",
       "      <td>0.0</td>\n",
       "      <td>0.0</td>\n",
       "      <td>1.0</td>\n",
       "      <td>0.0</td>\n",
       "      <td>1.0</td>\n",
       "      <td>1.0</td>\n",
       "      <td>NaN</td>\n",
       "      <td>...</td>\n",
       "      <td>35 - 44 Years</td>\n",
       "      <td>NaN</td>\n",
       "      <td>Hispanic</td>\n",
       "      <td>Female</td>\n",
       "      <td>NaN</td>\n",
       "      <td>NaN</td>\n",
       "      <td>NaN</td>\n",
       "      <td>NaN</td>\n",
       "      <td>MSA, Not Principle  City</td>\n",
       "      <td>0</td>\n",
       "    </tr>\n",
       "    <tr>\n",
       "      <th>97</th>\n",
       "      <td>2.0</td>\n",
       "      <td>2.0</td>\n",
       "      <td>0.0</td>\n",
       "      <td>1.0</td>\n",
       "      <td>0.0</td>\n",
       "      <td>1.0</td>\n",
       "      <td>0.0</td>\n",
       "      <td>0.0</td>\n",
       "      <td>1.0</td>\n",
       "      <td>NaN</td>\n",
       "      <td>...</td>\n",
       "      <td>45 - 54 Years</td>\n",
       "      <td>College Graduate</td>\n",
       "      <td>White</td>\n",
       "      <td>Male</td>\n",
       "      <td>&gt; $75,000</td>\n",
       "      <td>Not Married</td>\n",
       "      <td>Own</td>\n",
       "      <td>Not in Labor Force</td>\n",
       "      <td>MSA, Principle City</td>\n",
       "      <td>0</td>\n",
       "    </tr>\n",
       "    <tr>\n",
       "      <th>...</th>\n",
       "      <td>...</td>\n",
       "      <td>...</td>\n",
       "      <td>...</td>\n",
       "      <td>...</td>\n",
       "      <td>...</td>\n",
       "      <td>...</td>\n",
       "      <td>...</td>\n",
       "      <td>...</td>\n",
       "      <td>...</td>\n",
       "      <td>...</td>\n",
       "      <td>...</td>\n",
       "      <td>...</td>\n",
       "      <td>...</td>\n",
       "      <td>...</td>\n",
       "      <td>...</td>\n",
       "      <td>...</td>\n",
       "      <td>...</td>\n",
       "      <td>...</td>\n",
       "      <td>...</td>\n",
       "      <td>...</td>\n",
       "      <td>...</td>\n",
       "    </tr>\n",
       "    <tr>\n",
       "      <th>26675</th>\n",
       "      <td>2.0</td>\n",
       "      <td>2.0</td>\n",
       "      <td>0.0</td>\n",
       "      <td>1.0</td>\n",
       "      <td>0.0</td>\n",
       "      <td>1.0</td>\n",
       "      <td>0.0</td>\n",
       "      <td>0.0</td>\n",
       "      <td>1.0</td>\n",
       "      <td>NaN</td>\n",
       "      <td>...</td>\n",
       "      <td>45 - 54 Years</td>\n",
       "      <td>NaN</td>\n",
       "      <td>White</td>\n",
       "      <td>Male</td>\n",
       "      <td>NaN</td>\n",
       "      <td>NaN</td>\n",
       "      <td>NaN</td>\n",
       "      <td>NaN</td>\n",
       "      <td>Non-MSA</td>\n",
       "      <td>0</td>\n",
       "    </tr>\n",
       "    <tr>\n",
       "      <th>26679</th>\n",
       "      <td>3.0</td>\n",
       "      <td>1.0</td>\n",
       "      <td>0.0</td>\n",
       "      <td>1.0</td>\n",
       "      <td>0.0</td>\n",
       "      <td>0.0</td>\n",
       "      <td>1.0</td>\n",
       "      <td>1.0</td>\n",
       "      <td>1.0</td>\n",
       "      <td>NaN</td>\n",
       "      <td>...</td>\n",
       "      <td>55 - 64 Years</td>\n",
       "      <td>College Graduate</td>\n",
       "      <td>White</td>\n",
       "      <td>Male</td>\n",
       "      <td>&lt;= $75,000, Above Poverty</td>\n",
       "      <td>Married</td>\n",
       "      <td>Own</td>\n",
       "      <td>Employed</td>\n",
       "      <td>MSA, Not Principle  City</td>\n",
       "      <td>0</td>\n",
       "    </tr>\n",
       "    <tr>\n",
       "      <th>26682</th>\n",
       "      <td>2.0</td>\n",
       "      <td>2.0</td>\n",
       "      <td>0.0</td>\n",
       "      <td>1.0</td>\n",
       "      <td>0.0</td>\n",
       "      <td>1.0</td>\n",
       "      <td>0.0</td>\n",
       "      <td>0.0</td>\n",
       "      <td>1.0</td>\n",
       "      <td>NaN</td>\n",
       "      <td>...</td>\n",
       "      <td>45 - 54 Years</td>\n",
       "      <td>College Graduate</td>\n",
       "      <td>White</td>\n",
       "      <td>Female</td>\n",
       "      <td>&gt; $75,000</td>\n",
       "      <td>Married</td>\n",
       "      <td>Own</td>\n",
       "      <td>Employed</td>\n",
       "      <td>MSA, Not Principle  City</td>\n",
       "      <td>0</td>\n",
       "    </tr>\n",
       "    <tr>\n",
       "      <th>26692</th>\n",
       "      <td>1.0</td>\n",
       "      <td>1.0</td>\n",
       "      <td>0.0</td>\n",
       "      <td>0.0</td>\n",
       "      <td>0.0</td>\n",
       "      <td>1.0</td>\n",
       "      <td>0.0</td>\n",
       "      <td>0.0</td>\n",
       "      <td>1.0</td>\n",
       "      <td>NaN</td>\n",
       "      <td>...</td>\n",
       "      <td>18 - 34 Years</td>\n",
       "      <td>&lt; 12 Years</td>\n",
       "      <td>White</td>\n",
       "      <td>Female</td>\n",
       "      <td>Below Poverty</td>\n",
       "      <td>Not Married</td>\n",
       "      <td>Rent</td>\n",
       "      <td>Employed</td>\n",
       "      <td>Non-MSA</td>\n",
       "      <td>0</td>\n",
       "    </tr>\n",
       "    <tr>\n",
       "      <th>26695</th>\n",
       "      <td>0.0</td>\n",
       "      <td>0.0</td>\n",
       "      <td>0.0</td>\n",
       "      <td>0.0</td>\n",
       "      <td>0.0</td>\n",
       "      <td>0.0</td>\n",
       "      <td>0.0</td>\n",
       "      <td>0.0</td>\n",
       "      <td>0.0</td>\n",
       "      <td>NaN</td>\n",
       "      <td>...</td>\n",
       "      <td>18 - 34 Years</td>\n",
       "      <td>Some College</td>\n",
       "      <td>White</td>\n",
       "      <td>Male</td>\n",
       "      <td>&gt; $75,000</td>\n",
       "      <td>Not Married</td>\n",
       "      <td>Rent</td>\n",
       "      <td>Employed</td>\n",
       "      <td>MSA, Principle City</td>\n",
       "      <td>0</td>\n",
       "    </tr>\n",
       "  </tbody>\n",
       "</table>\n",
       "<p>2160 rows × 29 columns</p>\n",
       "</div>"
      ],
      "text/plain": [
       "       h1n1_worry  h1n1_awareness  antiviral_medication  contact_avoidance  \\\n",
       "2             1.0             1.0                   0.0                1.0   \n",
       "76            2.0             1.0                   0.0                0.0   \n",
       "90            1.0             1.0                   0.0                1.0   \n",
       "94            2.0             0.0                   1.0                0.0   \n",
       "97            2.0             2.0                   0.0                1.0   \n",
       "...           ...             ...                   ...                ...   \n",
       "26675         2.0             2.0                   0.0                1.0   \n",
       "26679         3.0             1.0                   0.0                1.0   \n",
       "26682         2.0             2.0                   0.0                1.0   \n",
       "26692         1.0             1.0                   0.0                0.0   \n",
       "26695         0.0             0.0                   0.0                0.0   \n",
       "\n",
       "       bought_face_mask  wash_hands_frequently  avoid_large_gatherings  \\\n",
       "2                   0.0                    0.0                     0.0   \n",
       "76                  0.0                    0.0                     0.0   \n",
       "90                  0.0                    1.0                     0.0   \n",
       "94                  0.0                    1.0                     0.0   \n",
       "97                  0.0                    1.0                     0.0   \n",
       "...                 ...                    ...                     ...   \n",
       "26675               0.0                    1.0                     0.0   \n",
       "26679               0.0                    0.0                     1.0   \n",
       "26682               0.0                    1.0                     0.0   \n",
       "26692               0.0                    1.0                     0.0   \n",
       "26695               0.0                    0.0                     0.0   \n",
       "\n",
       "       reduced_outside_home_cont  avoid_touch_face  dr_recc_h1n1_vacc  ...  \\\n",
       "2                            0.0               0.0                NaN  ...   \n",
       "76                           0.0               0.0                NaN  ...   \n",
       "90                           0.0               1.0                NaN  ...   \n",
       "94                           1.0               1.0                NaN  ...   \n",
       "97                           0.0               1.0                NaN  ...   \n",
       "...                          ...               ...                ...  ...   \n",
       "26675                        0.0               1.0                NaN  ...   \n",
       "26679                        1.0               1.0                NaN  ...   \n",
       "26682                        0.0               1.0                NaN  ...   \n",
       "26692                        0.0               1.0                NaN  ...   \n",
       "26695                        0.0               0.0                NaN  ...   \n",
       "\n",
       "         age_bracket     qualification               race     sex  \\\n",
       "2      18 - 34 Years  College Graduate              White    Male   \n",
       "76     55 - 64 Years  College Graduate              White    Male   \n",
       "90     18 - 34 Years  College Graduate  Other or Multiple  Female   \n",
       "94     35 - 44 Years               NaN           Hispanic  Female   \n",
       "97     45 - 54 Years  College Graduate              White    Male   \n",
       "...              ...               ...                ...     ...   \n",
       "26675  45 - 54 Years               NaN              White    Male   \n",
       "26679  55 - 64 Years  College Graduate              White    Male   \n",
       "26682  45 - 54 Years  College Graduate              White  Female   \n",
       "26692  18 - 34 Years        < 12 Years              White  Female   \n",
       "26695  18 - 34 Years      Some College              White    Male   \n",
       "\n",
       "                    income_level  marital_status  housing_status  \\\n",
       "2      <= $75,000, Above Poverty     Not Married             Own   \n",
       "76                     > $75,000     Not Married             Own   \n",
       "90                           NaN     Not Married            Rent   \n",
       "94                           NaN             NaN             NaN   \n",
       "97                     > $75,000     Not Married             Own   \n",
       "...                          ...             ...             ...   \n",
       "26675                        NaN             NaN             NaN   \n",
       "26679  <= $75,000, Above Poverty         Married             Own   \n",
       "26682                  > $75,000         Married             Own   \n",
       "26692              Below Poverty     Not Married            Rent   \n",
       "26695                  > $75,000     Not Married            Rent   \n",
       "\n",
       "               employment                census_msa h1n1_vaccine  \n",
       "2                Employed  MSA, Not Principle  City            0  \n",
       "76               Employed       MSA, Principle City            0  \n",
       "90               Employed                   Non-MSA            0  \n",
       "94                    NaN  MSA, Not Principle  City            0  \n",
       "97     Not in Labor Force       MSA, Principle City            0  \n",
       "...                   ...                       ...          ...  \n",
       "26675                 NaN                   Non-MSA            0  \n",
       "26679            Employed  MSA, Not Principle  City            0  \n",
       "26682            Employed  MSA, Not Principle  City            0  \n",
       "26692            Employed                   Non-MSA            0  \n",
       "26695            Employed       MSA, Principle City            0  \n",
       "\n",
       "[2160 rows x 29 columns]"
      ]
     },
     "execution_count": 32,
     "metadata": {},
     "output_type": "execute_result"
    }
   ],
   "source": [
    "df[(df['dr_recc_seasonal_vacc'].isnull())&(df['dr_recc_h1n1_vacc'].isnull())]"
   ]
  },
  {
   "cell_type": "code",
   "execution_count": 33,
   "metadata": {},
   "outputs": [],
   "source": [
    "def fn(coln):\n",
    "    vac=coln[0]\n",
    "    ris=coln[1]\n",
    "    if pd.isnull(vac):\n",
    "        if ris==4 or ris==5:\n",
    "            return 1\n",
    "        else:\n",
    "            return 0\n",
    "    else:\n",
    "        return vac\n",
    "df['dr_recc_h1n1_vacc']=df[['dr_recc_h1n1_vacc','is_h1n1_risky']].apply(fn,axis=1)"
   ]
  },
  {
   "cell_type": "code",
   "execution_count": 34,
   "metadata": {},
   "outputs": [],
   "source": [
    "def fn(coln):\n",
    "    vac=coln[0]\n",
    "    svac=coln[1]\n",
    "    if pd.isnull(svac):\n",
    "        if vac==1:\n",
    "            return 0\n",
    "        else:\n",
    "            return 1\n",
    "    else:\n",
    "        return svac\n",
    "df['dr_recc_seasonal_vacc']=df[['dr_recc_h1n1_vacc','dr_recc_seasonal_vacc']].apply(fn,axis=1)"
   ]
  },
  {
   "cell_type": "code",
   "execution_count": 35,
   "metadata": {},
   "outputs": [],
   "source": [
    "def fn(coln):\n",
    "    chro=coln[0]\n",
    "    svac=coln[1]\n",
    "    if pd.isnull(chro):\n",
    "        if svac==1:\n",
    "            return 1\n",
    "        else:\n",
    "            return 0\n",
    "    else:\n",
    "        return chro\n",
    "df['chronic_medic_condition']=df[['chronic_medic_condition','dr_recc_seasonal_vacc']].apply(fn,axis=1)"
   ]
  },
  {
   "cell_type": "code",
   "execution_count": 36,
   "metadata": {},
   "outputs": [
    {
     "data": {
      "text/plain": [
       "0    0.0\n",
       "dtype: float64"
      ]
     },
     "execution_count": 36,
     "metadata": {},
     "output_type": "execute_result"
    }
   ],
   "source": [
    "df['cont_child_undr_6_mnths'].mode()"
   ]
  },
  {
   "cell_type": "code",
   "execution_count": 37,
   "metadata": {},
   "outputs": [],
   "source": [
    "df['cont_child_undr_6_mnths']=df['cont_child_undr_6_mnths'].fillna(0)"
   ]
  },
  {
   "cell_type": "code",
   "execution_count": 38,
   "metadata": {},
   "outputs": [],
   "source": [
    "def fn(coln):\n",
    "    hea=coln[0]\n",
    "    awa=coln[1]\n",
    "    if pd.isnull(hea):\n",
    "        if awa==1 or awa==2:\n",
    "            return 1\n",
    "        else:\n",
    "            return 0\n",
    "    else:\n",
    "        return hea\n",
    "df['is_health_worker']=df[['is_health_worker','h1n1_awareness']].apply(fn,axis=1)"
   ]
  },
  {
   "cell_type": "code",
   "execution_count": 39,
   "metadata": {},
   "outputs": [
    {
     "data": {
      "text/plain": [
       "0    4.0\n",
       "dtype: float64"
      ]
     },
     "execution_count": 39,
     "metadata": {},
     "output_type": "execute_result"
    }
   ],
   "source": [
    "df['is_h1n1_vacc_effective'].mode()"
   ]
  },
  {
   "cell_type": "code",
   "execution_count": 40,
   "metadata": {},
   "outputs": [],
   "source": [
    "df['is_h1n1_vacc_effective']=df['is_h1n1_vacc_effective'].fillna(4)"
   ]
  },
  {
   "cell_type": "code",
   "execution_count": 41,
   "metadata": {},
   "outputs": [
    {
     "data": {
      "text/plain": [
       "0    2.0\n",
       "dtype: float64"
      ]
     },
     "execution_count": 41,
     "metadata": {},
     "output_type": "execute_result"
    }
   ],
   "source": [
    "df['is_h1n1_risky'].mode()"
   ]
  },
  {
   "cell_type": "code",
   "execution_count": 42,
   "metadata": {},
   "outputs": [],
   "source": [
    "df['is_h1n1_risky']=df['is_h1n1_risky'].fillna(2)"
   ]
  },
  {
   "cell_type": "code",
   "execution_count": 43,
   "metadata": {},
   "outputs": [
    {
     "data": {
      "text/plain": [
       "0    2.0\n",
       "dtype: float64"
      ]
     },
     "execution_count": 43,
     "metadata": {},
     "output_type": "execute_result"
    }
   ],
   "source": [
    "df['sick_from_h1n1_vacc'].mode()"
   ]
  },
  {
   "cell_type": "code",
   "execution_count": 44,
   "metadata": {},
   "outputs": [],
   "source": [
    "df['sick_from_h1n1_vacc']=df['sick_from_h1n1_vacc'].fillna(2)"
   ]
  },
  {
   "cell_type": "code",
   "execution_count": 45,
   "metadata": {},
   "outputs": [],
   "source": [
    "def fn(coln):\n",
    "    svac=coln[0]\n",
    "    vac=coln[1]\n",
    "    if pd.isnull(svac):\n",
    "        return vac\n",
    "    else:\n",
    "        return svac\n",
    "df['is_seas_vacc_effective']=df[['is_seas_vacc_effective','is_h1n1_vacc_effective']].apply(fn,axis=1)"
   ]
  },
  {
   "cell_type": "code",
   "execution_count": 46,
   "metadata": {},
   "outputs": [],
   "source": [
    "def fn(coln):\n",
    "    sea=coln[0]\n",
    "    h1n1=coln[1]\n",
    "    if pd.isnull(sea):\n",
    "        return h1n1\n",
    "    else:\n",
    "        return sea\n",
    "df['is_seas_risky']=df[['is_seas_risky','is_h1n1_risky']].apply(fn,axis=1)"
   ]
  },
  {
   "cell_type": "code",
   "execution_count": 47,
   "metadata": {},
   "outputs": [
    {
     "data": {
      "text/plain": [
       "0    College Graduate\n",
       "dtype: object"
      ]
     },
     "execution_count": 47,
     "metadata": {},
     "output_type": "execute_result"
    }
   ],
   "source": [
    "df['qualification'].mode()"
   ]
  },
  {
   "cell_type": "code",
   "execution_count": 48,
   "metadata": {},
   "outputs": [
    {
     "data": {
      "text/plain": [
       "<AxesSubplot:xlabel='qualification', ylabel='count'>"
      ]
     },
     "execution_count": 48,
     "metadata": {},
     "output_type": "execute_result"
    },
    {
     "data": {
      "image/png": "[encoded data removed]",
      "text/plain": [
       "<Figure size 432x288 with 1 Axes>"
      ]
     },
     "metadata": {
      "needs_background": "light"
     },
     "output_type": "display_data"
    }
   ],
   "source": [
    "sns.countplot('qualification',data=df)"
   ]
  },
  {
   "cell_type": "code",
   "execution_count": 49,
   "metadata": {},
   "outputs": [],
   "source": [
    "df['qualification']=df['qualification'].fillna('College Graduate')"
   ]
  },
  {
   "cell_type": "code",
   "execution_count": 50,
   "metadata": {},
   "outputs": [
    {
     "data": {
      "text/plain": [
       "0    <= $75,000, Above Poverty\n",
       "dtype: object"
      ]
     },
     "execution_count": 50,
     "metadata": {},
     "output_type": "execute_result"
    }
   ],
   "source": [
    "df['income_level'].mode()"
   ]
  },
  {
   "cell_type": "code",
   "execution_count": 51,
   "metadata": {},
   "outputs": [
    {
     "data": {
      "text/html": [
       "<div>\n",
       "<style scoped>\n",
       "    .dataframe tbody tr th:only-of-type {\n",
       "        vertical-align: middle;\n",
       "    }\n",
       "\n",
       "    .dataframe tbody tr th {\n",
       "        vertical-align: top;\n",
       "    }\n",
       "\n",
       "    .dataframe thead th {\n",
       "        text-align: right;\n",
       "    }\n",
       "</style>\n",
       "<table border=\"1\" class=\"dataframe\">\n",
       "  <thead>\n",
       "    <tr style=\"text-align: right;\">\n",
       "      <th></th>\n",
       "      <th>income_level</th>\n",
       "    </tr>\n",
       "  </thead>\n",
       "  <tbody>\n",
       "    <tr>\n",
       "      <th>&lt;= $75,000, Above Poverty</th>\n",
       "      <td>12777</td>\n",
       "    </tr>\n",
       "    <tr>\n",
       "      <th>&gt; $75,000</th>\n",
       "      <td>6810</td>\n",
       "    </tr>\n",
       "    <tr>\n",
       "      <th>Below Poverty</th>\n",
       "      <td>2697</td>\n",
       "    </tr>\n",
       "  </tbody>\n",
       "</table>\n",
       "</div>"
      ],
      "text/plain": [
       "                           income_level\n",
       "<= $75,000, Above Poverty         12777\n",
       "> $75,000                          6810\n",
       "Below Poverty                      2697"
      ]
     },
     "execution_count": 51,
     "metadata": {},
     "output_type": "execute_result"
    }
   ],
   "source": [
    "df['income_level'].value_counts().to_frame()\n",
    "# sns.counplot(a1)"
   ]
  },
  {
   "cell_type": "code",
   "execution_count": 52,
   "metadata": {},
   "outputs": [],
   "source": [
    "df['income_level']=df['income_level'].fillna('<= $75,000, Above Poverty')"
   ]
  },
  {
   "cell_type": "code",
   "execution_count": 53,
   "metadata": {},
   "outputs": [
    {
     "data": {
      "text/html": [
       "<div>\n",
       "<style scoped>\n",
       "    .dataframe tbody tr th:only-of-type {\n",
       "        vertical-align: middle;\n",
       "    }\n",
       "\n",
       "    .dataframe tbody tr th {\n",
       "        vertical-align: top;\n",
       "    }\n",
       "\n",
       "    .dataframe thead th {\n",
       "        text-align: right;\n",
       "    }\n",
       "</style>\n",
       "<table border=\"1\" class=\"dataframe\">\n",
       "  <thead>\n",
       "    <tr style=\"text-align: right;\">\n",
       "      <th></th>\n",
       "      <th>marital_status</th>\n",
       "    </tr>\n",
       "  </thead>\n",
       "  <tbody>\n",
       "    <tr>\n",
       "      <th>Married</th>\n",
       "      <td>13555</td>\n",
       "    </tr>\n",
       "    <tr>\n",
       "      <th>Not Married</th>\n",
       "      <td>11744</td>\n",
       "    </tr>\n",
       "  </tbody>\n",
       "</table>\n",
       "</div>"
      ],
      "text/plain": [
       "             marital_status\n",
       "Married               13555\n",
       "Not Married           11744"
      ]
     },
     "execution_count": 53,
     "metadata": {},
     "output_type": "execute_result"
    }
   ],
   "source": [
    "a1=pd.DataFrame(df['marital_status'].value_counts())\n",
    "a1"
   ]
  },
  {
   "cell_type": "code",
   "execution_count": 54,
   "metadata": {},
   "outputs": [],
   "source": [
    "df['marital_status']=df['marital_status'].fillna('Married')"
   ]
  },
  {
   "cell_type": "code",
   "execution_count": 55,
   "metadata": {},
   "outputs": [
    {
     "data": {
      "text/plain": [
       "Own     18736\n",
       "Rent     5929\n",
       "Name: housing_status, dtype: int64"
      ]
     },
     "execution_count": 55,
     "metadata": {},
     "output_type": "execute_result"
    }
   ],
   "source": [
    "df['housing_status'].value_counts()"
   ]
  },
  {
   "cell_type": "code",
   "execution_count": 56,
   "metadata": {},
   "outputs": [],
   "source": [
    "df['housing_status']=df['housing_status'].fillna('Own')"
   ]
  },
  {
   "cell_type": "code",
   "execution_count": 57,
   "metadata": {},
   "outputs": [
    {
     "data": {
      "text/plain": [
       "Employed              13560\n",
       "Not in Labor Force    10231\n",
       "Unemployed             1453\n",
       "Name: employment, dtype: int64"
      ]
     },
     "execution_count": 57,
     "metadata": {},
     "output_type": "execute_result"
    }
   ],
   "source": [
    "df['employment'].value_counts()"
   ]
  },
  {
   "cell_type": "code",
   "execution_count": 58,
   "metadata": {},
   "outputs": [],
   "source": [
    "df['employment']=df['employment'].fillna('Employed')"
   ]
  },
  {
   "cell_type": "code",
   "execution_count": 59,
   "metadata": {},
   "outputs": [
    {
     "name": "stdout",
     "output_type": "stream",
     "text": [
      "<class 'pandas.core.frame.DataFrame'>\n",
      "RangeIndex: 26707 entries, 0 to 26706\n",
      "Data columns (total 29 columns):\n",
      " #   Column                     Non-Null Count  Dtype  \n",
      "---  ------                     --------------  -----  \n",
      " 0   h1n1_worry                 26707 non-null  float64\n",
      " 1   h1n1_awareness             26707 non-null  float64\n",
      " 2   antiviral_medication       26707 non-null  float64\n",
      " 3   contact_avoidance          26707 non-null  float64\n",
      " 4   bought_face_mask           26707 non-null  float64\n",
      " 5   wash_hands_frequently      26707 non-null  float64\n",
      " 6   avoid_large_gatherings     26707 non-null  float64\n",
      " 7   reduced_outside_home_cont  26707 non-null  float64\n",
      " 8   avoid_touch_face           26707 non-null  float64\n",
      " 9   dr_recc_h1n1_vacc          26707 non-null  float64\n",
      " 10  dr_recc_seasonal_vacc      26707 non-null  float64\n",
      " 11  chronic_medic_condition    26707 non-null  float64\n",
      " 12  cont_child_undr_6_mnths    26707 non-null  float64\n",
      " 13  is_health_worker           26707 non-null  float64\n",
      " 14  is_h1n1_vacc_effective     26707 non-null  float64\n",
      " 15  is_h1n1_risky              26707 non-null  float64\n",
      " 16  sick_from_h1n1_vacc        26707 non-null  float64\n",
      " 17  is_seas_vacc_effective     26707 non-null  float64\n",
      " 18  is_seas_risky              26707 non-null  float64\n",
      " 19  age_bracket                26707 non-null  object \n",
      " 20  qualification              26707 non-null  object \n",
      " 21  race                       26707 non-null  object \n",
      " 22  sex                        26707 non-null  object \n",
      " 23  income_level               26707 non-null  object \n",
      " 24  marital_status             26707 non-null  object \n",
      " 25  housing_status             26707 non-null  object \n",
      " 26  employment                 26707 non-null  object \n",
      " 27  census_msa                 26707 non-null  object \n",
      " 28  h1n1_vaccine               26707 non-null  int64  \n",
      "dtypes: float64(19), int64(1), object(9)\n",
      "memory usage: 5.9+ MB\n"
     ]
    }
   ],
   "source": [
    "df.info()"
   ]
  },
  {
   "cell_type": "code",
   "execution_count": 60,
   "metadata": {},
   "outputs": [
    {
     "data": {
      "text/plain": [
       "White                21222\n",
       "Black                 2118\n",
       "Hispanic              1755\n",
       "Other or Multiple     1612\n",
       "Name: race, dtype: int64"
      ]
     },
     "execution_count": 60,
     "metadata": {},
     "output_type": "execute_result"
    }
   ],
   "source": [
    "df['race'].value_counts()"
   ]
  },
  {
   "cell_type": "code",
   "execution_count": 61,
   "metadata": {},
   "outputs": [
    {
     "data": {
      "text/plain": [
       "Female    15858\n",
       "Male      10849\n",
       "Name: sex, dtype: int64"
      ]
     },
     "execution_count": 61,
     "metadata": {},
     "output_type": "execute_result"
    }
   ],
   "source": [
    "df['sex'].value_counts()"
   ]
  },
  {
   "cell_type": "code",
   "execution_count": 62,
   "metadata": {},
   "outputs": [
    {
     "data": {
      "text/plain": [
       "MSA, Not Principle  City    11645\n",
       "MSA, Principle City          7864\n",
       "Non-MSA                      7198\n",
       "Name: census_msa, dtype: int64"
      ]
     },
     "execution_count": 62,
     "metadata": {},
     "output_type": "execute_result"
    }
   ],
   "source": [
    "df['census_msa'].value_counts()"
   ]
  },
  {
   "cell_type": "code",
   "execution_count": 63,
   "metadata": {},
   "outputs": [],
   "source": [
    "X=df.drop('h1n1_vaccine',axis=1)\n",
    "y=df['h1n1_vaccine']"
   ]
  },
  {
   "cell_type": "code",
   "execution_count": 64,
   "metadata": {},
   "outputs": [
    {
     "data": {
      "text/plain": [
       "0    0\n",
       "1    0\n",
       "2    0\n",
       "3    0\n",
       "4    0\n",
       "Name: h1n1_vaccine, dtype: int64"
      ]
     },
     "execution_count": 64,
     "metadata": {},
     "output_type": "execute_result"
    }
   ],
   "source": [
    "y.head()"
   ]
  },
  {
   "cell_type": "code",
   "execution_count": 65,
   "metadata": {},
   "outputs": [],
   "source": [
    "X=pd.get_dummies(X,columns=['sex','race','income_level','marital_status','housing_status','employment','census_msa','qualification'],drop_first=True)"
   ]
  },
  {
   "cell_type": "code",
   "execution_count": 66,
   "metadata": {},
   "outputs": [],
   "source": [
    "X=pd.get_dummies(X,columns=['age_bracket'],drop_first=True)"
   ]
  },
  {
   "cell_type": "code",
   "execution_count": 67,
   "metadata": {},
   "outputs": [
    {
     "data": {
      "text/html": [
       "<div>\n",
       "<style scoped>\n",
       "    .dataframe tbody tr th:only-of-type {\n",
       "        vertical-align: middle;\n",
       "    }\n",
       "\n",
       "    .dataframe tbody tr th {\n",
       "        vertical-align: top;\n",
       "    }\n",
       "\n",
       "    .dataframe thead th {\n",
       "        text-align: right;\n",
       "    }\n",
       "</style>\n",
       "<table border=\"1\" class=\"dataframe\">\n",
       "  <thead>\n",
       "    <tr style=\"text-align: right;\">\n",
       "      <th></th>\n",
       "      <th>h1n1_worry</th>\n",
       "      <th>h1n1_awareness</th>\n",
       "      <th>antiviral_medication</th>\n",
       "      <th>contact_avoidance</th>\n",
       "      <th>bought_face_mask</th>\n",
       "      <th>wash_hands_frequently</th>\n",
       "      <th>avoid_large_gatherings</th>\n",
       "      <th>reduced_outside_home_cont</th>\n",
       "      <th>avoid_touch_face</th>\n",
       "      <th>dr_recc_h1n1_vacc</th>\n",
       "      <th>...</th>\n",
       "      <th>employment_Unemployed</th>\n",
       "      <th>census_msa_MSA, Principle City</th>\n",
       "      <th>census_msa_Non-MSA</th>\n",
       "      <th>qualification_&lt; 12 Years</th>\n",
       "      <th>qualification_College Graduate</th>\n",
       "      <th>qualification_Some College</th>\n",
       "      <th>age_bracket_35 - 44 Years</th>\n",
       "      <th>age_bracket_45 - 54 Years</th>\n",
       "      <th>age_bracket_55 - 64 Years</th>\n",
       "      <th>age_bracket_65+ Years</th>\n",
       "    </tr>\n",
       "  </thead>\n",
       "  <tbody>\n",
       "    <tr>\n",
       "      <th>0</th>\n",
       "      <td>1.0</td>\n",
       "      <td>0.0</td>\n",
       "      <td>0.0</td>\n",
       "      <td>0.0</td>\n",
       "      <td>0.0</td>\n",
       "      <td>0.0</td>\n",
       "      <td>0.0</td>\n",
       "      <td>1.0</td>\n",
       "      <td>1.0</td>\n",
       "      <td>0.0</td>\n",
       "      <td>...</td>\n",
       "      <td>0</td>\n",
       "      <td>0</td>\n",
       "      <td>1</td>\n",
       "      <td>1</td>\n",
       "      <td>0</td>\n",
       "      <td>0</td>\n",
       "      <td>0</td>\n",
       "      <td>0</td>\n",
       "      <td>1</td>\n",
       "      <td>0</td>\n",
       "    </tr>\n",
       "    <tr>\n",
       "      <th>1</th>\n",
       "      <td>3.0</td>\n",
       "      <td>2.0</td>\n",
       "      <td>0.0</td>\n",
       "      <td>1.0</td>\n",
       "      <td>0.0</td>\n",
       "      <td>1.0</td>\n",
       "      <td>0.0</td>\n",
       "      <td>1.0</td>\n",
       "      <td>1.0</td>\n",
       "      <td>0.0</td>\n",
       "      <td>...</td>\n",
       "      <td>0</td>\n",
       "      <td>0</td>\n",
       "      <td>0</td>\n",
       "      <td>0</td>\n",
       "      <td>0</td>\n",
       "      <td>0</td>\n",
       "      <td>1</td>\n",
       "      <td>0</td>\n",
       "      <td>0</td>\n",
       "      <td>0</td>\n",
       "    </tr>\n",
       "    <tr>\n",
       "      <th>2</th>\n",
       "      <td>1.0</td>\n",
       "      <td>1.0</td>\n",
       "      <td>0.0</td>\n",
       "      <td>1.0</td>\n",
       "      <td>0.0</td>\n",
       "      <td>0.0</td>\n",
       "      <td>0.0</td>\n",
       "      <td>0.0</td>\n",
       "      <td>0.0</td>\n",
       "      <td>0.0</td>\n",
       "      <td>...</td>\n",
       "      <td>0</td>\n",
       "      <td>0</td>\n",
       "      <td>0</td>\n",
       "      <td>0</td>\n",
       "      <td>1</td>\n",
       "      <td>0</td>\n",
       "      <td>0</td>\n",
       "      <td>0</td>\n",
       "      <td>0</td>\n",
       "      <td>0</td>\n",
       "    </tr>\n",
       "    <tr>\n",
       "      <th>3</th>\n",
       "      <td>1.0</td>\n",
       "      <td>1.0</td>\n",
       "      <td>0.0</td>\n",
       "      <td>1.0</td>\n",
       "      <td>0.0</td>\n",
       "      <td>1.0</td>\n",
       "      <td>1.0</td>\n",
       "      <td>0.0</td>\n",
       "      <td>0.0</td>\n",
       "      <td>0.0</td>\n",
       "      <td>...</td>\n",
       "      <td>0</td>\n",
       "      <td>1</td>\n",
       "      <td>0</td>\n",
       "      <td>0</td>\n",
       "      <td>0</td>\n",
       "      <td>0</td>\n",
       "      <td>0</td>\n",
       "      <td>0</td>\n",
       "      <td>0</td>\n",
       "      <td>1</td>\n",
       "    </tr>\n",
       "    <tr>\n",
       "      <th>4</th>\n",
       "      <td>2.0</td>\n",
       "      <td>1.0</td>\n",
       "      <td>0.0</td>\n",
       "      <td>1.0</td>\n",
       "      <td>0.0</td>\n",
       "      <td>1.0</td>\n",
       "      <td>1.0</td>\n",
       "      <td>0.0</td>\n",
       "      <td>1.0</td>\n",
       "      <td>0.0</td>\n",
       "      <td>...</td>\n",
       "      <td>0</td>\n",
       "      <td>0</td>\n",
       "      <td>0</td>\n",
       "      <td>0</td>\n",
       "      <td>0</td>\n",
       "      <td>1</td>\n",
       "      <td>0</td>\n",
       "      <td>1</td>\n",
       "      <td>0</td>\n",
       "      <td>0</td>\n",
       "    </tr>\n",
       "  </tbody>\n",
       "</table>\n",
       "<p>5 rows × 38 columns</p>\n",
       "</div>"
      ],
      "text/plain": [
       "   h1n1_worry  h1n1_awareness  antiviral_medication  contact_avoidance  \\\n",
       "0         1.0             0.0                   0.0                0.0   \n",
       "1         3.0             2.0                   0.0                1.0   \n",
       "2         1.0             1.0                   0.0                1.0   \n",
       "3         1.0             1.0                   0.0                1.0   \n",
       "4         2.0             1.0                   0.0                1.0   \n",
       "\n",
       "   bought_face_mask  wash_hands_frequently  avoid_large_gatherings  \\\n",
       "0               0.0                    0.0                     0.0   \n",
       "1               0.0                    1.0                     0.0   \n",
       "2               0.0                    0.0                     0.0   \n",
       "3               0.0                    1.0                     1.0   \n",
       "4               0.0                    1.0                     1.0   \n",
       "\n",
       "   reduced_outside_home_cont  avoid_touch_face  dr_recc_h1n1_vacc  ...  \\\n",
       "0                        1.0               1.0                0.0  ...   \n",
       "1                        1.0               1.0                0.0  ...   \n",
       "2                        0.0               0.0                0.0  ...   \n",
       "3                        0.0               0.0                0.0  ...   \n",
       "4                        0.0               1.0                0.0  ...   \n",
       "\n",
       "   employment_Unemployed  census_msa_MSA, Principle City  census_msa_Non-MSA  \\\n",
       "0                      0                               0                   1   \n",
       "1                      0                               0                   0   \n",
       "2                      0                               0                   0   \n",
       "3                      0                               1                   0   \n",
       "4                      0                               0                   0   \n",
       "\n",
       "   qualification_< 12 Years  qualification_College Graduate  \\\n",
       "0                         1                               0   \n",
       "1                         0                               0   \n",
       "2                         0                               1   \n",
       "3                         0                               0   \n",
       "4                         0                               0   \n",
       "\n",
       "   qualification_Some College  age_bracket_35 - 44 Years  \\\n",
       "0                           0                          0   \n",
       "1                           0                          1   \n",
       "2                           0                          0   \n",
       "3                           0                          0   \n",
       "4                           1                          0   \n",
       "\n",
       "   age_bracket_45 - 54 Years  age_bracket_55 - 64 Years  age_bracket_65+ Years  \n",
       "0                          0                          1                      0  \n",
       "1                          0                          0                      0  \n",
       "2                          0                          0                      0  \n",
       "3                          0                          0                      1  \n",
       "4                          1                          0                      0  \n",
       "\n",
       "[5 rows x 38 columns]"
      ]
     },
     "execution_count": 67,
     "metadata": {},
     "output_type": "execute_result"
    }
   ],
   "source": [
    "X.head()"
   ]
  },
  {
   "cell_type": "code",
   "execution_count": 68,
   "metadata": {},
   "outputs": [],
   "source": [
    "from sklearn.model_selection import train_test_split"
   ]
  },
  {
   "cell_type": "code",
   "execution_count": 69,
   "metadata": {},
   "outputs": [],
   "source": [
    "X_train, X_test, y_train, y_test = train_test_split(X, df['h1n1_vaccine'], test_size=0.20, random_state=12)"
   ]
  },
  {
   "cell_type": "code",
   "execution_count": 70,
   "metadata": {},
   "outputs": [],
   "source": [
    "from sklearn.linear_model import LogisticRegression"
   ]
  },
  {
   "cell_type": "code",
   "execution_count": 71,
   "metadata": {},
   "outputs": [
    {
     "data": {
      "text/plain": [
       "LogisticRegression()"
      ]
     },
     "execution_count": 71,
     "metadata": {},
     "output_type": "execute_result"
    }
   ],
   "source": [
    "lr=LogisticRegression()\n",
    "lr.fit(X_train,y_train)"
   ]
  },
  {
   "cell_type": "code",
   "execution_count": 72,
   "metadata": {},
   "outputs": [],
   "source": [
    "pred=lr.predict(X_test)"
   ]
  },
  {
   "cell_type": "code",
   "execution_count": 73,
   "metadata": {},
   "outputs": [],
   "source": [
    "from sklearn.metrics import classification_report,accuracy_score"
   ]
  },
  {
   "cell_type": "code",
   "execution_count": 74,
   "metadata": {},
   "outputs": [
    {
     "name": "stdout",
     "output_type": "stream",
     "text": [
      "              precision    recall  f1-score   support\n",
      "\n",
      "           0       0.86      0.94      0.90      4240\n",
      "           1       0.64      0.41      0.50      1102\n",
      "\n",
      "    accuracy                           0.83      5342\n",
      "   macro avg       0.75      0.67      0.70      5342\n",
      "weighted avg       0.81      0.83      0.82      5342\n",
      "\n"
     ]
    }
   ],
   "source": [
    "print(classification_report(y_test,pred))"
   ]
  },
  {
   "cell_type": "code",
   "execution_count": 75,
   "metadata": {},
   "outputs": [],
   "source": [
    "y_train_pred=lr.predict(X_train)"
   ]
  },
  {
   "cell_type": "code",
   "execution_count": 76,
   "metadata": {},
   "outputs": [
    {
     "name": "stdout",
     "output_type": "stream",
     "text": [
      "              precision    recall  f1-score   support\n",
      "\n",
      "           0       0.94      0.85      0.89     18633\n",
      "           1       0.39      0.65      0.49      2732\n",
      "\n",
      "    accuracy                           0.82     21365\n",
      "   macro avg       0.67      0.75      0.69     21365\n",
      "weighted avg       0.87      0.82      0.84     21365\n",
      "\n"
     ]
    }
   ],
   "source": [
    "print(classification_report(y_train_pred,y_train))"
   ]
  },
  {
   "cell_type": "code",
   "execution_count": null,
   "metadata": {},
   "outputs": [],
   "source": []
  }
 ],
 "metadata": {
  "kernelspec": {
   "display_name": "Python 3",
   "language": "python",
   "name": "python3"
  },
  "language_info": {
   "codemirror_mode": {
    "name": "ipython",
    "version": 3
   },
   "file_extension": ".py",
   "mimetype": "text/x-python",
   "name": "python",
   "nbconvert_exporter": "python",
   "pygments_lexer": "ipython3",
   "version": "3.8.5"
  }
 },
 "nbformat": 4,
 "nbformat_minor": 4
}
